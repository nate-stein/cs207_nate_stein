{
 "cells": [
  {
   "cell_type": "markdown",
   "metadata": {},
   "source": [
    "# Homework 6\n",
    "## Due:  Tuesday, October 10 at 11:59 PM"
   ]
  },
  {
   "cell_type": "markdown",
   "metadata": {},
   "source": [
    "# Problem 1: Bank Account Revisited\n",
    "\n",
    "We are going to rewrite the bank account closure problem we had a few assignments ago, only this time developing a formal class for a Bank User and Bank Account to use in our closure (recall previously we just had a nonlocal variable amount that we changed). "
   ]
  },
  {
   "cell_type": "markdown",
   "metadata": {},
   "source": [
    "### Some Preliminaries:\n",
    "First we are going to define two types of bank accounts.  Use the code below to do this:"
   ]
  },
  {
   "cell_type": "code",
   "execution_count": 1,
   "metadata": {
    "collapsed": true
   },
   "outputs": [],
   "source": [
    "from enum import Enum\n",
    "class AccountType(Enum):\n",
    "    SAVINGS = 1\n",
    "    CHECKING = 2"
   ]
  },
  {
   "cell_type": "markdown",
   "metadata": {},
   "source": [
    "An Enum stands for an enumeration, it's a convenient way for you to define lists of things. Typing:"
   ]
  },
  {
   "cell_type": "code",
   "execution_count": 2,
   "metadata": {
    "collapsed": false
   },
   "outputs": [
    {
     "data": {
      "text/plain": [
       "<AccountType.SAVINGS: 1>"
      ]
     },
     "execution_count": 2,
     "metadata": {},
     "output_type": "execute_result"
    }
   ],
   "source": [
    "AccountType.SAVINGS"
   ]
  },
  {
   "cell_type": "markdown",
   "metadata": {},
   "source": [
    "returns a Python representation of an enumeration. You can compare these account types:"
   ]
  },
  {
   "cell_type": "code",
   "execution_count": 3,
   "metadata": {
    "collapsed": false
   },
   "outputs": [
    {
     "data": {
      "text/plain": [
       "True"
      ]
     },
     "execution_count": 3,
     "metadata": {},
     "output_type": "execute_result"
    }
   ],
   "source": [
    "AccountType.SAVINGS == AccountType.SAVINGS"
   ]
  },
  {
   "cell_type": "code",
   "execution_count": 4,
   "metadata": {
    "collapsed": false
   },
   "outputs": [
    {
     "data": {
      "text/plain": [
       "False"
      ]
     },
     "execution_count": 4,
     "metadata": {},
     "output_type": "execute_result"
    }
   ],
   "source": [
    "AccountType.SAVINGS == AccountType.CHECKING"
   ]
  },
  {
   "cell_type": "markdown",
   "metadata": {},
   "source": [
    "To get a string representation of an Enum, you can use:"
   ]
  },
  {
   "cell_type": "code",
   "execution_count": 5,
   "metadata": {
    "collapsed": false
   },
   "outputs": [
    {
     "data": {
      "text/plain": [
       "'SAVINGS'"
      ]
     },
     "execution_count": 5,
     "metadata": {},
     "output_type": "execute_result"
    }
   ],
   "source": [
    "AccountType.SAVINGS.name"
   ]
  },
  {
   "cell_type": "markdown",
   "metadata": {},
   "source": [
    "### Part 1: Create a BankAccount class with the following specification:\n",
    "\n",
    "Constructor is `BankAccount(self, owner, accountType)` where `owner` is a string representing the name of the account owner and `accountType` is one of the AccountType enums\n",
    "\n",
    "Methods `withdraw(self, amount)` and `deposit(self, amount)` to modify the account balance of the account\n",
    "\n",
    "Override methods `__str__` to write an informative string of the account owner and the type of account, and `__len__` to return the balance of the account"
   ]
  },
  {
   "cell_type": "code",
   "execution_count": 6,
   "metadata": {
    "collapsed": true
   },
   "outputs": [],
   "source": [
    "class BankAccount():\n",
    "    def __init__ (self, owner, accountType):\n",
    "        \"\"\" Init balance to 0. \"\"\"\n",
    "        self.owner = owner\n",
    "        self.accountType = accountType\n",
    "        self.balance = 0\n",
    "\n",
    "    def withdraw (self, amount):\n",
    "        if self.balance < amount:\n",
    "            raise ValueError('Cannot withdraw more than current balance.')\n",
    "        if amount < 0:\n",
    "            raise ValueError('Cannot withdraw negative amount.')\n",
    "\n",
    "        self.balance -= amount\n",
    "\n",
    "    def deposit (self, amount):\n",
    "        if amount < 0:\n",
    "            raise ValueError('Cannot deposit negative amount.')\n",
    "\n",
    "        self.balance += amount\n",
    "\n",
    "    def __str__ (self):\n",
    "        return 'Type: {0}\\nOwner: {1}\\nBalance: {2:.2f}'.format(\n",
    "              self.accountType.name, self.owner, self.balance)\n",
    "\n",
    "    def __len__ (self):\n",
    "        return self.balance"
   ]
  },
  {
   "cell_type": "markdown",
   "metadata": {},
   "source": [
    "### Part 2:  Write a class BankUser with the following specification:\n",
    "\n",
    "Constructor `BankUser(self, owner)` where `owner` is the name of the account.\n",
    "\n",
    "Method `addAccount(self, accountType)` - to start, a user will have no accounts when the BankUser object is created. `addAccount` will add a new account to the user of the `accountType` specified. **Only one savings/checking account per user, return appropriate error otherwise**\n",
    "\n",
    "Methods `getBalance(self, accountType)`, `deposit(self, accountType, amount)`, and `withdraw(self, accountType, amount)` for a specific AccountType.\n",
    "\n",
    "Override `__str__` to have an informative summary of user's accounts."
   ]
  },
  {
   "cell_type": "code",
   "execution_count": 7,
   "metadata": {
    "collapsed": true
   },
   "outputs": [],
   "source": [
    "class BankUser():\n",
    "    def __init__ (self, owner):\n",
    "        self.owner = owner\n",
    "        self.accounts = {}\n",
    "\n",
    "    def addAccount (self, accountType):\n",
    "        \"\"\" Raises ValueError if user already has an account of this type. \"\"\"\n",
    "        if len(self.accounts) > 0:\n",
    "            if accountType in self.accounts:\n",
    "                raise ValueError('Only one {} account per user.'.format(\n",
    "                      accountType.name))\n",
    "\n",
    "        new_account = BankAccount(self.owner, accountType)\n",
    "        self.accounts[accountType] = new_account\n",
    "\n",
    "    def getBalance (self, accountType):\n",
    "        if accountType not in self.accounts:\n",
    "            raise ValueError('{0} has no {1} account.'.format(\n",
    "                  self.owner, accountType.name))\n",
    "\n",
    "        return self.accounts[accountType].balance\n",
    "\n",
    "    def deposit (self, accountType, amount):\n",
    "        if accountType not in self.accounts:\n",
    "            raise ValueError('{0} has no {1} account.'.format(\n",
    "                  self.owner, accountType.name))\n",
    "\n",
    "        self.accounts[accountType].deposit(amount)\n",
    "\n",
    "    def withdraw (self, accountType, amount):\n",
    "        if accountType not in self.accounts:\n",
    "            raise ValueError('{0} has no {1} account.'.format(\n",
    "                  self.owner, accountType.name))\n",
    "\n",
    "        self.accounts[accountType].withdraw(amount)\n",
    "\n",
    "    def __str__ (self):\n",
    "        msg = '{} has '.format(self.owner)\n",
    "        if len(self.accounts) == 0:\n",
    "            msg += 'no accounts.'\n",
    "            return msg\n",
    "\n",
    "        if len(self.accounts) == 1:\n",
    "            msg += '1 account.'\n",
    "        else:\n",
    "            msg += '{} accounts.'.format(len(self.accounts))\n",
    "\n",
    "        for i, acct in self.accounts.items():\n",
    "            msg += '\\n' + '-' * 20 + '\\n'  # divider\n",
    "            msg += str(acct)\n",
    "\n",
    "        return msg"
   ]
  },
  {
   "cell_type": "markdown",
   "metadata": {},
   "source": [
    "Write some simple tests to make sure this is working. Think of edge scenarios a user might try to do."
   ]
  },
  {
   "cell_type": "code",
   "execution_count": 8,
   "metadata": {
    "collapsed": false
   },
   "outputs": [],
   "source": [
    "import pytest\n",
    "\n",
    "def test_withdraw_more_than_balance ():\n",
    "    user = BankUser('George Nelson')\n",
    "    user.addAccount(AccountType.CHECKING)\n",
    "    user.deposit(AccountType.CHECKING, 1000)\n",
    "    with pytest.raises(ValueError, message='Expecting ValueError'):\n",
    "        user.withdraw(AccountType.CHECKING, 1005)\n",
    "\n",
    "\n",
    "def test_deposit_negative_amount ():\n",
    "    user = BankUser('George Nelson')\n",
    "    user.addAccount(AccountType.CHECKING)\n",
    "    with pytest.raises(ValueError, message='Expecting ValueError'):\n",
    "        user.deposit(AccountType.CHECKING, -200)\n",
    "\n",
    "\n",
    "def test_getBalance ():\n",
    "    \"\"\" Ensure balance after several deposits/withdrawals is what expected. \"\"\"\n",
    "    user = BankUser('George Nelson')\n",
    "    user.addAccount(AccountType.SAVINGS)\n",
    "    user.deposit(AccountType.SAVINGS, 5000)\n",
    "    user.withdraw(AccountType.SAVINGS, 2000)\n",
    "    user.deposit(AccountType.SAVINGS, 500)\n",
    "    assert user.getBalance(AccountType.SAVINGS) == 3500\n",
    "\n",
    "\n",
    "def test_user_str ():\n",
    "    \"\"\" Ensure expected parts of string representation are present. \"\"\"\n",
    "    user = BankUser('George Nelson')\n",
    "    user.addAccount(AccountType.SAVINGS)\n",
    "    user.deposit(AccountType.SAVINGS, 10)\n",
    "    summary = str(user)\n",
    "    assert 'SAVINGS' in summary\n",
    "    assert 'George Nelson' in summary\n",
    "    assert '10.00' in summary\n",
    "\n",
    "\n",
    "test_withdraw_more_than_balance()\n",
    "test_deposit_negative_amount()\n",
    "test_getBalance()\n",
    "test_user_str()"
   ]
  },
  {
   "cell_type": "markdown",
   "metadata": {},
   "source": [
    "### Part 3:  ATM Closure\n",
    "\n",
    "Finally, we are going to rewrite a closure to use our bank account. We will make use of the [input function](http://anh.cs.luc.edu/python/hands-on/3.1/handsonHtml/io.html) which takes user input to decide what actions to take.\n",
    "\n",
    "Write a closure called ATMSession(bankUser) which takes in a BankUser object. Return a method called Interface that when called, would provide the following interface:\n",
    "\n",
    "First screen for user will look like:\n",
    "\n",
    "\n",
    "**Enter Option:**\n",
    "\n",
    "**1)Exit**\n",
    "\n",
    "**2)Create Account**\n",
    "\n",
    "**3)Check Balance**\n",
    "\n",
    "**4)Deposit**\n",
    "\n",
    "**5)Withdraw**\n",
    "\n",
    "\n",
    "Pressing 1 will exit, any other option will show the options:\n",
    "\n",
    "\n",
    "\n",
    "**Enter Option:**\n",
    "\n",
    "**1)Checking**\n",
    "\n",
    "**2)Savings**\n",
    "\n",
    "\n",
    "If a deposit or withdraw was chosen, then there must be a third screen:\n",
    "\n",
    "\n",
    "\n",
    "**Enter Integer Amount, Cannot Be Negative:**\n",
    "\n",
    "This is to keep the code relatively simple, if you'd like you can also curate the options depending on the BankUser object (for example, if user has no accounts then only show the Create Account option), but this is up to you. In any case, you must handle any input from the user in a reasonable way that an actual bank would be okay with, and give the user a proper response to the action specified.\n",
    "\n",
    "Upon finishing a transaction or viewing balance, it should go back to the original screen"
   ]
  },
  {
   "cell_type": "code",
   "execution_count": 9,
   "metadata": {
    "collapsed": true
   },
   "outputs": [],
   "source": [
    "def ATMSession (bankUser):\n",
    "    \"\"\" Returns closure method providing session for BankUser class. \"\"\"\n",
    "\n",
    "    def Interface ():\n",
    "        def get_main_user_option ():\n",
    "            option_request = 'Enter Option:\\n\\n1)Exit\\n2)Create Account\\n3)Check ' \\\n",
    "                             'Balance\\n4)Deposit\\n5)Withdraw\\n'\n",
    "            try:\n",
    "                response = int(input(option_request))\n",
    "            except:\n",
    "                print('Retrying due to invalid command.\\n')\n",
    "                return get_main_user_option()\n",
    "            else:\n",
    "                if response in [1, 2, 3, 4, 5]:\n",
    "                    return response\n",
    "                print('Retrying due to invalid response number.\\n')\n",
    "                return get_main_user_option()\n",
    "\n",
    "        def get_account_type ():\n",
    "            option_request = 'Enter Option:\\n1)Checking\\n2)Savings\\n'\n",
    "            try:\n",
    "                response = int(input(option_request))\n",
    "            except:\n",
    "                print('Retrying due to invalid command.\\n')\n",
    "                return get_account_type()\n",
    "\n",
    "            if response == 1:\n",
    "                return AccountType.SAVINGS\n",
    "            elif response == 2:\n",
    "                return AccountType.CHECKING\n",
    "            else:\n",
    "                print('Invalid account type provided. Retrying.\\n')\n",
    "                return get_account_type()\n",
    "\n",
    "        def get_int_amount ():\n",
    "            try:\n",
    "                response = int(input('Enter Integer Amount, Cannot Be Negative:\\n'))\n",
    "            except:\n",
    "                print('Retrying due to invalid integer amount.\\n')\n",
    "                return get_int_amount()\n",
    "            else:\n",
    "                if response >= 0:\n",
    "                    return response\n",
    "                print('Amount cannot be negative.\\n')\n",
    "                return get_int_amount()\n",
    "\n",
    "        while True:\n",
    "            option = get_main_user_option()\n",
    "\n",
    "            if option == 1:\n",
    "                break\n",
    "\n",
    "            if option == 2:\n",
    "                acct_type = get_account_type()\n",
    "                bankUser.addAccount(acct_type)\n",
    "                print('Account added\\n')\n",
    "\n",
    "            if option == 3:\n",
    "                acct_type = get_account_type()\n",
    "                balance = bankUser.getBalance(acct_type)\n",
    "                print('Balance = {:.2f}\\n'.format(balance))\n",
    "\n",
    "            if option == 4:\n",
    "                acct_type = get_account_type()\n",
    "                amount = get_int_amount()\n",
    "                try:\n",
    "                    bankUser.deposit(acct_type, amount)\n",
    "                except Exception as e:\n",
    "                    print(e)\n",
    "\n",
    "            if option == 5:\n",
    "                acct_type = get_account_type()\n",
    "                amount = get_int_amount()\n",
    "                try:\n",
    "                    bankUser.withdraw(acct_type, amount)\n",
    "                except Exception as e:\n",
    "                    print(e)"
   ]
  },
  {
   "cell_type": "markdown",
   "metadata": {},
   "source": [
    "### Part 4:  Put everything in a module Bank.py\n",
    "\n",
    "We will be grading this problem with a test suite. Put the enum, classes, and closure in a single file named Bank.py. It is very important that the class and method specifications we provided are used (with the same capitalization), otherwise you will receive no credit."
   ]
  },
  {
   "cell_type": "markdown",
   "metadata": {},
   "source": [
    "---"
   ]
  },
  {
   "cell_type": "markdown",
   "metadata": {},
   "source": [
    "## Problem 2:  Linear Regression Class\n",
    "\n",
    "Let's say you want to create Python classes for three related types of linear regression: Ordinary Least Squares Linear Regression, Ridge Regression, and Lasso Regression. "
   ]
  },
  {
   "cell_type": "markdown",
   "metadata": {},
   "source": [
    "Consider the multivariate linear model:\n",
    "\n",
    "$$y = X\\beta + \\epsilon$$\n",
    "\n",
    "where $y$ is a length $n$ vector, $X$ is an $m \\times p$ matrix, and $\\beta$\n",
    "is a $p$ length vector of coefficients.\n",
    "\n",
    "#### Ordinary Least Squares Linear Regression\n",
    "\n",
    "[OLS Regression](https://en.wikipedia.org/wiki/Ordinary_least_squares) seeks to minimize the following cost function:\n",
    "\n",
    "$$\\|y - \\beta\\mathbf {X}\\|^{2}$$\n",
    "\n",
    "The best fit coefficients can be obtained by:\n",
    "\n",
    "$$\\hat{\\beta} = (X^T X)^{-1}X^Ty$$\n",
    "\n",
    "where $X^T$ is the transpose of the matrix $X$ and $X^{-1}$ is the inverse of the matrix $X$.\n",
    "\n",
    "#### Ridge Regression\n",
    "\n",
    "[Ridge Regression](https://en.wikipedia.org/wiki/Tikhonov_regularization) introduces an L2 regularization term to the cost function:\n",
    "\n",
    "$$\\|y - \\beta\\mathbf {X}\\|^{2}+\\|\\Gamma \\mathbf {x} \\|^{2}$$\n",
    "\n",
    "Where $\\Gamma = \\alpha I$ for some constant $\\alpha$ and the identity matrix $I$.\n",
    "\n",
    "The best fit coefficients can be obtained by:\n",
    "$$\\hat{\\beta} = (X^T X+\\Gamma^T\\Gamma)^{-1}X^Ty$$\n",
    "\n",
    "#### Lasso Regression\n",
    "\n",
    "[Lasso Regression](https://en.wikipedia.org/wiki/Lasso_%28statistics%29) introduces an L1 regularization term and restricts the total number of predictor variables in the model.\n",
    "The following cost function:\n",
    "$${\\displaystyle \\min _{\\beta _{0},\\beta }\\left\\{{\\frac {1}{m}}\\left\\|y-\\beta _{0}-X\\beta \\right\\|_{2}^{2}\\right\\}{\\text{ subject to }}\\|\\beta \\|_{1}\\leq \\alpha.}$$\n",
    "\n",
    "does not have a nice closed form solution. For the sake of this exercise, you may use the [sklearn.linear_model.Lasso](http://scikit-learn.org/stable/modules/generated/sklearn.linear_model.Lasso.html) class, which uses a coordinate descent algorithm to find the best fit. You should only use the class in the fit() method of this exercise (ie. do not re-use the sklearn for other methods in your class).\n",
    "\n",
    "#### $R^2$ score\n",
    "\n",
    "The $R^2$ score is defined as:\n",
    "$${R^{2} = {1-{SS_E \\over SS_T}}}$$\n",
    "\n",
    "Where:\n",
    "\n",
    "$$SS_T=\\sum_i (y_i-\\bar{y})^2, SS_R=\\sum_i (\\hat{y_i}-\\bar{y})^2, SS_E=\\sum_i (y_i - \\hat{y_i})^2$$\n",
    "\n",
    "where  ${y_i}$ are the original data values, $\\hat{y_i}$ are the predicted values, and $\\bar{y_i}$ is the mean of the original data values."
   ]
  },
  {
   "cell_type": "markdown",
   "metadata": {},
   "source": [
    "### Part 1:  Base Class\n",
    "Write a class called `Regression` with the following methods:\n",
    "\n",
    "$fit(X, y)$: Fits linear model to $X$ and $y$.\n",
    "\n",
    "$get\\_params()$: Returns $\\hat{\\beta}$ for the fitted model. The parameters should be stored in a dictionary.\n",
    "\n",
    "$predict(X)$: Predict new values with the fitted model given $X$.\n",
    "\n",
    "$score(X, y)$: Returns $R^2$ value of the fitted model.\n",
    "\n",
    "$set\\_params()$: Manually set the parameters of the linear model.\n",
    "\n",
    "This parent class should throw a `NotImplementedError` for methods that are intended to be implemented by subclasses."
   ]
  },
  {
   "cell_type": "code",
   "execution_count": 10,
   "metadata": {
    "collapsed": true
   },
   "outputs": [],
   "source": [
    "class Regression():\n",
    "    def __init__ (self):\n",
    "        self._params = {}\n",
    "        self.name = None\n",
    "\n",
    "    def fit (self, X, y):\n",
    "        raise NotImplementedError\n",
    "\n",
    "    def get_params (self):\n",
    "        return self._params\n",
    "\n",
    "    def predict (self, X):\n",
    "        beta = self._params['beta']\n",
    "        return np.dot(X, beta)\n",
    "\n",
    "    def set_params (self, params):\n",
    "        self._params = params"
   ]
  },
  {
   "cell_type": "markdown",
   "metadata": {},
   "source": [
    "### Part 2: OLS Linear Regression\n",
    "\n",
    "Write a class called `OLSRegression` that implements the OLS Regression model described above and inherits the `Regression` class."
   ]
  },
  {
   "cell_type": "code",
   "execution_count": 11,
   "metadata": {
    "collapsed": true
   },
   "outputs": [],
   "source": [
    "import numpy as np\n",
    "\n",
    "class OLSRegression(Regression):\n",
    "    def __init__ (self):\n",
    "        super().__init__()\n",
    "        self.name = 'OLS'\n",
    "\n",
    "    def fit (self, X, y):\n",
    "        X_T = X.transpose()\n",
    "        self._params['beta'] = np.dot(np.dot(\n",
    "              np.linalg.inv(np.dot(X_T, X)), X_T),\n",
    "              y)\n",
    "\n",
    "    @staticmethod\n",
    "    def score (y_true, y_pred):\n",
    "        \"\"\" Returns R^2 score of fitted model.\n",
    "\n",
    "        Args:\n",
    "            y_true: Original data values.\n",
    "            y_pred: Predicted values.\n",
    "\n",
    "        Returns:\n",
    "            1 - SSE/SST\n",
    "        \"\"\"\n",
    "        SSE, SST = 0, 0\n",
    "        y_bar = np.mean(y_true)\n",
    "        for y_t, y_p in zip(y_true, y_pred):\n",
    "            SSE += (y_t - y_p) ** 2\n",
    "            SST += (y_t - y_bar) ** 2\n",
    "        return 1 - (SSE / SST)"
   ]
  },
  {
   "cell_type": "markdown",
   "metadata": {},
   "source": [
    "### Part 3: Ridge Regression\n",
    "\n",
    "Write a class called `RidgeRegression` that implements Ridge Regression and inherits the `OLSRegression` class."
   ]
  },
  {
   "cell_type": "code",
   "execution_count": 12,
   "metadata": {
    "collapsed": true
   },
   "outputs": [],
   "source": [
    "import warnings\n",
    "\n",
    "class RidgeRegression(OLSRegression):\n",
    "    def __init__ (self, alpha=None):\n",
    "        super().__init__()\n",
    "        self._params['alpha'] = alpha\n",
    "        self.name = 'Ridge'\n",
    "\n",
    "    def fit (self, X, y):\n",
    "        alpha = self._params['alpha']\n",
    "        if alpha is None:\n",
    "            warnings.warn('RidgeRegression.fit() called without alpha being set. '\n",
    "                          'Fitting with alpha = 0.')\n",
    "            alpha = 0\n",
    "\n",
    "        m, n = np.shape(X)\n",
    "        G = np.identity(n) * alpha\n",
    "\n",
    "        X_T = X.transpose()\n",
    "        self._params['beta'] = np.dot(\n",
    "              np.dot(\n",
    "                    np.linalg.inv(np.add(np.dot(X_T, X), np.dot(G.transpose(), G))),\n",
    "                    X_T),\n",
    "              y\n",
    "              )"
   ]
  },
  {
   "cell_type": "markdown",
   "metadata": {},
   "source": [
    "### Part 3: Lasso Regression\n",
    "\n",
    "Write a class called `LassoRegression` that implements Lasso Regression and inherits the `OLSRegression` class. You should only use Lasso(), Lasso.fit(), Lasso.coef_, and Lasso._intercept from the `sklearn.linear_model.Lasso` class."
   ]
  },
  {
   "cell_type": "code",
   "execution_count": 13,
   "metadata": {
    "collapsed": true
   },
   "outputs": [],
   "source": [
    "from sklearn.linear_model import Lasso\n",
    "\n",
    "class LassoRegression(OLSRegression):\n",
    "    \n",
    "    def __init__ (self, alpha=None):\n",
    "        super().__init__()\n",
    "        self._params['alpha'] = alpha\n",
    "        self.name = 'Lasso'\n",
    "\n",
    "    def fit (self, X, y):\n",
    "        alpha = self._params['alpha']\n",
    "        if alpha is None:\n",
    "            warnings.warn('RidgeRegression.fit() called without alpha being set. '\n",
    "                          'Fitting with alpha = 0.')\n",
    "            alpha = 0\n",
    "\n",
    "        lasso = Lasso(alpha=alpha, fit_intercept=False).fit(X, y)\n",
    "        self._params['beta'] = lasso.coef_\n",
    "        self._params['intercept'] = lasso.intercept_"
   ]
  },
  {
   "cell_type": "markdown",
   "metadata": {},
   "source": [
    "### Part 4: Model Scoring\n",
    "You will use the [Boston dataset](http://scikit-learn.org/stable/modules/generated/sklearn.datasets.load_boston.html) for this part.\n",
    "\n",
    "Instantiate each of the three models above.  Using a for loop, fit (on the training data) and score (on the testing data) each model on the Boston dataset.  \n",
    "\n",
    "Print out the $R^2$ value for each model and the parameters for the best model using the `get_params()` method. Use an $\\alpha$ value of 0.1.\n",
    "\n",
    "**Hint:**  You can consider using the `sklearn.model_selection.train_test_split` method to create the training and test datasets."
   ]
  },
  {
   "cell_type": "code",
   "execution_count": 14,
   "metadata": {
    "collapsed": false
   },
   "outputs": [
    {
     "name": "stdout",
     "output_type": "stream",
     "text": [
      "Fitting OLS model.\n",
      "R^2: 0.6878540268303749\n",
      "\n",
      "Fitting Ridge model.\n",
      "R^2: 0.6878506855813118\n",
      "\n",
      "Fitting Lasso model.\n",
      "R^2: 0.6866202054281176\n",
      "\n",
      "Best model: OLS\n",
      "Params: {'beta': array([ -1.08886522e-01,   3.97963612e-02,   4.89530368e-02,\n",
      "         3.17006469e+00,  -2.35286115e+00,   5.78124804e+00,\n",
      "        -1.62610577e-02,  -9.19529268e-01,   9.96534030e-02,\n",
      "        -5.37692779e-03,  -4.16743063e-01,   1.68675114e-02,\n",
      "        -4.68597923e-01])}\n"
     ]
    }
   ],
   "source": [
    "import sklearn.datasets\n",
    "from sklearn.model_selection import train_test_split\n",
    "\n",
    "X, y = sklearn.datasets.load_boston(True)\n",
    "X_train, X_test, y_train, y_test = train_test_split(\n",
    "      X, y, test_size=0.33, random_state=42)\n",
    "\n",
    "models = [OLSRegression(), RidgeRegression(alpha=0.1), LassoRegression(alpha=0.1)]\n",
    "\n",
    "# Keep track of index for model with top R^2.\n",
    "top_r2 = -1\n",
    "top_model = -1\n",
    "for i, model in enumerate(models):\n",
    "    print('Fitting {} model.'.format(model.name))\n",
    "    model.fit(X_train, y_train)\n",
    "    y_pred = model.predict(X_test)\n",
    "    r2 = model.score(y_test, y_pred)\n",
    "    if r2 > top_r2:\n",
    "        top_r2 = r2\n",
    "        top_model = i\n",
    "    print('R^2: {0}\\n'.format(r2))\n",
    "\n",
    "print('Best model: {}'.format(models[top_model].name))\n",
    "print('Params: {}'.format(models[top_model].get_params()))"
   ]
  },
  {
   "cell_type": "markdown",
   "metadata": {},
   "source": [
    "### Part 5: Visualize Model Performance\n",
    "\n",
    "We can evaluate how the models perform for various values of $\\alpha$. Calculate the $R^2$ scores for each model for  $\\alpha \\in [0.05, 1]$ and plot the three lines on the same graph. To change the parameters, use the `set_params()` method. Be sure to label each line and add axis labels."
   ]
  },
  {
   "cell_type": "code",
   "execution_count": 15,
   "metadata": {
    "collapsed": false
   },
   "outputs": [
    {
     "data": {
      "text/plain": [
       "<matplotlib.text.Text at 0xe453e3160>"
      ]
     },
     "execution_count": 15,
     "metadata": {},
     "output_type": "execute_result"
    },
    {
     "data": {
      "image/png": "[encoded data removed]",
      "text/plain": [
       "<matplotlib.figure.Figure at 0xe453b0240>"
      ]
     },
     "metadata": {},
     "output_type": "display_data"
    }
   ],
   "source": [
    "import matplotlib.pyplot as plt\n",
    "%matplotlib inline\n",
    "\n",
    "X, y = sklearn.datasets.load_boston(True)\n",
    "X_train, X_test, y_train, y_test = train_test_split(\n",
    "      X, y, test_size=0.33, random_state=42)\n",
    "\n",
    "models = [OLSRegression(), RidgeRegression(), LassoRegression()]\n",
    "results = [[], [], []]\n",
    "alphas = np.arange(0.05, 1, step=0.05)\n",
    "for alpha in alphas:\n",
    "    for i, model in enumerate(models):\n",
    "        if model.name != 'OLS':\n",
    "            model.set_params({'alpha':alpha})\n",
    "        model.fit(X_train, y_train)\n",
    "        y_pred = model.predict(X_test)\n",
    "        r2 = model.score(y_test, y_pred)\n",
    "        results[i].append(r2)\n",
    "\n",
    "# Plot results.\n",
    "for i in range(len(results)):\n",
    "    plt.plot(alphas, results[i], label=models[i].name)\n",
    "\n",
    "plt.legend(loc=9)\n",
    "plt.title('R^2 vs. Alpha Param for Three Models')\n",
    "plt.ylabel('R^2')\n",
    "plt.xlabel('Alpha')"
   ]
  },
  {
   "cell_type": "code",
   "execution_count": null,
   "metadata": {
    "collapsed": true
   },
   "outputs": [],
   "source": []
  }
 ],
 "metadata": {
  "kernelspec": {
   "display_name": "Python 3",
   "language": "python",
   "name": "python3"
  },
  "language_info": {
   "codemirror_mode": {
    "name": "ipython",
    "version": 3
   },
   "file_extension": ".py",
   "mimetype": "text/x-python",
   "name": "python",
   "nbconvert_exporter": "python",
   "pygments_lexer": "ipython3",
   "version": "3.5.2"
  }
 },
 "nbformat": 4,
 "nbformat_minor": 2
}
