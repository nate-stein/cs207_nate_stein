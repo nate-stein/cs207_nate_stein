{
 "cells": [
  {
   "cell_type": "markdown",
   "metadata": {},
   "source": [
    "# Homework 10: `SQL`\n",
    "\n",
    "## Due Date:  Thursday, November 16th at 11:59 PM\n",
    "\n",
    "You will create a database of the NASA polynomial coefficients for each specie.\n",
    "\n",
    "**Please turn in your database with your `Jupyter` notebook!**"
   ]
  },
  {
   "cell_type": "markdown",
   "metadata": {},
   "source": [
    "# Question 1: Convert XML to a SQL database"
   ]
  },
  {
   "cell_type": "markdown",
   "metadata": {},
   "source": [
    "Create two tables named `LOW` and `HIGH`, each corresponding to data given for the low and high temperature range.\n",
    "Each should have the following column names:\n",
    "\n",
    "- `SPECIES_NAME`\n",
    "- `TLOW`\n",
    "- `THIGH`\n",
    "- `COEFF_1`\n",
    "- `COEFF_2`\n",
    "- `COEFF_3`\n",
    "- `COEFF_4`\n",
    "- `COEFF_5`\n",
    "- `COEFF_6`\n",
    "- `COEFF_7`\n",
    "\n",
    "Populate the tables using the XML file you created in last assignment. If you did not complete the last assignment, you may also use the `example_thermo.xml` file.\n",
    "\n",
    "`TLOW` should refer to the temperature at the low range and `THIGH` should refer to the temperature at the high range.  For example, in the `LOW` table, $H$ would have `TLOW` at $200$ and `THIGH` at $1000$ and in the `HIGH` table, $H$ would have `TLOW` at $1000$ and `THIGH` at $3500$.\n",
    "\n",
    "For both tables, `COEFF_1` through `COEFF_7` should be populated with the corresponding coefficients for the low temperature data and high temperature data."
   ]
  },
  {
   "cell_type": "code",
   "execution_count": 1,
   "metadata": {},
   "outputs": [],
   "source": [
    "import sqlite3\n",
    "\n",
    "from bs4 import BeautifulSoup\n",
    "import numpy as np\n",
    "import pandas as pd\n",
    "\n",
    "conn = sqlite3.connect('HW10DB.sqlite')\n",
    "cursor = conn.cursor()\n",
    "cursor.execute('DROP TABLE IF EXISTS LOW')\n",
    "cursor.execute('DROP TABLE IF EXISTS HIGH')\n",
    "cursor.execute('DROP TABLE IF EXISTS ALL_TEMPS')\n",
    "\n",
    "cursor.execute(\"\"\"CREATE TABLE LOW (\n",
    "               SPECIES_NAME TEXT, \n",
    "               TLOW REAL, \n",
    "               THIGH REAL, \n",
    "               COEFF_1 REAL, \n",
    "               COEFF_2 REAL, \n",
    "               COEFF_3 REAL, \n",
    "               COEFF_4 REAL, \n",
    "               COEFF_5 REAL, \n",
    "               COEFF_6 REAL, \n",
    "               COEFF_7 REAL)\"\"\")\n",
    "\n",
    "cursor.execute(\"\"\"CREATE TABLE HIGH (\n",
    "               SPECIES_NAME TEXT, \n",
    "               TLOW REAL, \n",
    "               THIGH REAL, \n",
    "               COEFF_1 REAL, \n",
    "               COEFF_2 REAL, \n",
    "               COEFF_3 REAL, \n",
    "               COEFF_4 REAL, \n",
    "               COEFF_5 REAL, \n",
    "               COEFF_6 REAL, \n",
    "               COEFF_7 REAL)\"\"\")\n",
    "\n",
    "soup = BeautifulSoup(open('nasa_coeff.xml', 'r').read(), 'xml')\n",
    "\n",
    "\n",
    "def viz_tables (cols, query):\n",
    "    \"\"\"Prints SQL query and displays DataFrame created from queried records.\"\"\"\n",
    "    q = cursor.execute(query).fetchall()\n",
    "    series_list = []\n",
    "    for i, col_name in enumerate(cols):\n",
    "        series_list.append((col_name, [col[i] for col in q]))\n",
    "    df = pd.DataFrame.from_items(series_list)\n",
    "    print(df)\n",
    "\n",
    "\n",
    "def get_low_high_temp_nodes (nasa_nodes):\n",
    "    max0 = float(nasa_nodes[0].attrs['Tmax'])\n",
    "    max1 = float(nasa_nodes[1].attrs['Tmax'])\n",
    "    if max1 > max0:\n",
    "        return nasa_nodes[0], nasa_nodes[1]\n",
    "    return nasa_nodes[1], nasa_nodes[0]\n",
    "\n",
    "\n",
    "def parse_coeffs_from_tag (floatArray):\n",
    "    result = floatArray.split(',')\n",
    "    result = [i.strip() for i in result]\n",
    "    result = [float(i) for i in result]\n",
    "    return result\n",
    "\n",
    "\n",
    "def add_row_to_table (nasa, species, table, cursor):\n",
    "    \"\"\"Adds row in table for species represented in <NASA> element.\"\"\"\n",
    "    query = \"INSERT INTO {} (SPECIES_NAME, TLOW, THIGH, COEFF_1, COEFF_2, \" \\\n",
    "            \"COEFF_3, COEFF_4, COEFF_5, COEFF_6, COEFF_7) VALUES \" \\\n",
    "            \"(?, ?, ?, ?, ?, ?, ?, ?, ?, ?)\".format(table)\n",
    "    coeffs = parse_coeffs_from_tag(nasa.find('floatArray').string)\n",
    "    vals = (species, float(nasa.attrs['Tmin']), float(nasa.attrs['Tmax']),\n",
    "            coeffs[0], coeffs[1], coeffs[2], coeffs[3], coeffs[4], coeffs[5],\n",
    "            coeffs[6])\n",
    "    cursor.execute(query, vals)\n",
    "\n",
    "\n",
    "for species in soup.find('speciesData').find_all('species'):\n",
    "    name = species.attrs['name']\n",
    "    nasa_nodes = species.find('thermo').find_all('NASA')\n",
    "    low_node, high_node = get_low_high_temp_nodes(nasa_nodes)\n",
    "    add_row_to_table(low_node, name, 'LOW', cursor)\n",
    "    add_row_to_table(high_node, name, 'HIGH', cursor)\n",
    "\n",
    "conn.commit()"
   ]
  },
  {
   "cell_type": "markdown",
   "metadata": {},
   "source": [
    "# Question 2: `WHERE` Statements"
   ]
  },
  {
   "cell_type": "markdown",
   "metadata": {},
   "source": [
    "1. Write a `Python` function `get_coeffs` that returns an array of 7 coefficients.  \n",
    "   \n",
    "   The function should take in two parameters: 1.) `species_name` and 2.) `temp_range`, an indicator variable ('low' or 'high') to indicate whether the coefficients should come from the low or high temperature range.  \n",
    "   The function should use `SQL` commands and `WHERE` statements on the table you just created in Question 1 (rather than taking data from the XML directly).\n",
    "```python\n",
    "def get_coeffs(species_name, temp_range):\n",
    "    ''' Fill in here'''\n",
    "    return coeffs\n",
    "```\n",
    "\n",
    "2. Write a python function `get_species` that returns all species that have a temperature range above or below a given value. The function should take in two parameters: 1.) `temp` and 2.) `temp_range`, an indicator variable ('low' or 'high').\n",
    "\n",
    "  When temp_range is 'low', we are looking for species with a temperature range lower than the given temperature, and for a 'high' temp_range, we want species with a temperature range higher than the given temperature.\n",
    "\n",
    "  This exercise may be useful if different species have different `LOW` and `HIGH` ranges.\n",
    "\n",
    "  And as before, you should accomplish this through `SQL` queries and where statements.\n",
    "\n",
    "```python\n",
    "def get_species(temp, temp_range):\n",
    "    ''' Fill in here'''\n",
    "    return coeffs\n",
    "```"
   ]
  },
  {
   "cell_type": "code",
   "execution_count": 2,
   "metadata": {},
   "outputs": [],
   "source": [
    "def get_coeffs(species_name, temp_range):\n",
    "    if temp_range.lower() == 'high': table = 'HIGH'\n",
    "    elif temp_range.lower() == 'low': table = 'LOW'\n",
    "    else: raise ValueError('Invalid temp_range.')\n",
    "\n",
    "    query = 'SELECT COEFF_1, COEFF_2, COEFF_3, COEFF_4, COEFF_5, COEFF_6, ' \\\n",
    "            'COEFF_7 FROM {0} ' \\\n",
    "            'WHERE SPECIES_NAME = ?'.format(table)\n",
    "\n",
    "    coeffs = cursor.execute(query, (species_name,)).fetchone()\n",
    "    return coeffs\n",
    "\n",
    "def get_species(temp, temp_range):\n",
    "    \"\"\"Returns set containing unique species given temp conditions.\"\"\"\n",
    "    if temp_range.lower() == 'low':\n",
    "        query_low = 'SELECT SPECIES_NAME FROM LOW WHERE THIGH < ?'\n",
    "        query_high = 'SELECT SPECIES_NAME FROM HIGH WHERE THIGH < ?'\n",
    "    elif temp_range.lower() == 'high':\n",
    "        query_low = 'SELECT SPECIES_NAME FROM LOW WHERE TLOW > ?'\n",
    "        query_high = 'SELECT SPECIES_NAME FROM HIGH WHERE TLOW > ?'\n",
    "    else:\n",
    "        raise ValueError('Invalid temp_range.')\n",
    "\n",
    "    species_low = cursor.execute(query_low, (temp,)).fetchall()\n",
    "    species_high = cursor.execute(query_high, (temp,)).fetchall()\n",
    "    \n",
    "    # Unpack resulting lists of tuples.\n",
    "    species_low = [i[0] for i in species_low]\n",
    "    species_high = [i[0] for i in species_high]\n",
    "    species_high.extend(species_low)\n",
    "    return set(species_high)"
   ]
  },
  {
   "cell_type": "markdown",
   "metadata": {},
   "source": [
    "# Question 3: `JOIN` STATEMENTS"
   ]
  },
  {
   "cell_type": "markdown",
   "metadata": {},
   "source": [
    "Create a table named `ALL_TEMPS` that has the following columns:\n",
    "\n",
    "- `SPECIES_NAME`\n",
    "- `TEMP_LOW`\n",
    "- `TEMP_HIGH`\n",
    "\n",
    "This table should be created by joining the tables `LOW` and `HIGH` on the value `SPECIES_NAME`."
   ]
  },
  {
   "cell_type": "markdown",
   "metadata": {},
   "source": [
    "1. Write a `Python` function `get_range` that returns the range of temperatures for a given species_name.\n",
    "\n",
    "The range should be computed within the `SQL` query (i.e. you should subtract within the `SELECT` statement in the `SQL` query).\n",
    "```python\n",
    "def get_range(species_name):\n",
    "    '''Fill in here'''\n",
    "    return range\n",
    "```\n",
    "\n",
    "Note that `TEMP_LOW` is the lowest temperature in the `LOW` range and `TEMP_HIGH` is the highest temperature in the `HIGH` range."
   ]
  },
  {
   "cell_type": "code",
   "execution_count": 3,
   "metadata": {},
   "outputs": [],
   "source": [
    "join_query = 'CREATE TABLE ALL_TEMPS AS ' \\\n",
    "             'SELECT LOW.SPECIES_NAME, LOW.TLOW AS TEMP_LOW, HIGH.THIGH AS ' \\\n",
    "             'TEMP_HIGH ' \\\n",
    "             'FROM LOW ' \\\n",
    "             'JOIN HIGH ON LOW.SPECIES_NAME=HIGH.SPECIES_NAME'\n",
    "\n",
    "cursor.execute(join_query)\n",
    "conn.commit()"
   ]
  },
  {
   "cell_type": "code",
   "execution_count": 4,
   "metadata": {},
   "outputs": [
    {
     "name": "stdout",
     "output_type": "stream",
     "text": [
      "Range retrieved for O2 what was expected.\n"
     ]
    }
   ],
   "source": [
    "def get_range (species_name):\n",
    "    query = 'SELECT (TEMP_HIGH - TEMP_LOW) FROM ALL_TEMPS ' \\\n",
    "            'WHERE SPECIES_NAME = ?'\n",
    "    result = cursor.execute(query, (species_name,)).fetchone()\n",
    "    return result[0]\n",
    "\n",
    "\n",
    "# Ensure function works as expected.\n",
    "o2_range = get_range('O2')\n",
    "np.testing.assert_almost_equal(o2_range, 3300)\n",
    "print('Range retrieved for O2 what was expected.')\n",
    "\n",
    "conn.close()"
   ]
  }
 ],
 "metadata": {
  "kernelspec": {
   "display_name": "Python 3",
   "language": "python",
   "name": "python3"
  },
  "language_info": {
   "codemirror_mode": {
    "name": "ipython",
    "version": 3
   },
   "file_extension": ".py",
   "mimetype": "text/x-python",
   "name": "python",
   "nbconvert_exporter": "python",
   "pygments_lexer": "ipython3",
   "version": "3.5.2"
  }
 },
 "nbformat": 4,
 "nbformat_minor": 2
}
