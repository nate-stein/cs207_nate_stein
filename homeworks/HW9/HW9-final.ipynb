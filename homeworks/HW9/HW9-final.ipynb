{
 "cells": [
  {
   "cell_type": "markdown",
   "metadata": {},
   "source": [
    "# Homework 9: Getting Familiar with NASA Polynomials\n",
    "## Due Date:  Tuesday, November 7th at 11:59 PM"
   ]
  },
  {
   "cell_type": "markdown",
   "metadata": {},
   "source": [
    "Read the NASA Polynomial dataset in raw format and parse and store the data into an .xml file."
   ]
  },
  {
   "cell_type": "markdown",
   "metadata": {},
   "source": [
    "### Review of the NASA Polynomials\n",
    "You can find the NASA Polynomial file in `thermo.txt`.\n",
    "\n",
    "You can find some details on the NASA Polynomials [at this site](http://combustion.berkeley.edu/gri_mech/data/nasa_plnm.html) in addition to the Lecture 16 notes.\n",
    "\n",
    "\n",
    "The NASA polynomials for specie $i$ have the form:\n",
    "$$\n",
    "    \\frac{C_{p,i}}{R}= a_{i1} + a_{i2} T + a_{i3} T^2 + a_{i4} T^3 + a_{i5} T^4\n",
    "$$\n",
    "\n",
    "$$\n",
    "    \\frac{H_{i}}{RT} = a_{i1} + a_{i2} \\frac{T}{2} + a_{i3} \\frac{T^2}{3} + a_{i4} \\frac{T^3}{4} + a_{i5} \\frac{T^4}{5} + \\frac{a_{i6}}{T}\n",
    "$$\n",
    "\n",
    "$$\n",
    "    \\frac{S_{i}}{R}  = a_{i1} \\ln(T) + a_{i2} T + a_{i3} \\frac{T^2}{2} + a_{i4} \\frac{T^3}{3} + a_{i5} \\frac{T^4}{4} + a_{i7}\n",
    "$$\n",
    "\n",
    "where $a_{i1}$, $a_{i2}$, $a_{i3}$, $a_{i4}$, $a_{i5}$, $a_{i6}$, and $a_{i7}$ are the numerical coefficients supplied in NASA thermodynamic files. "
   ]
  },
  {
   "cell_type": "markdown",
   "metadata": {},
   "source": [
    "### Some Notes on `thermo.txt`\n",
    "The first 7 numbers starting on the second line of each species entry (five of the second line and the first two of the third line) are the seven coefficients ($a_{i1}$ through $a_{i7}$, respectively) for the high-temperature range (above 1000 K, the upper boundary is specified on the first line of the species entry). \n",
    "\n",
    "The next seven numbers are the coefficients ($a_{i1}$ through $a_{i7}$, respectively) for the low-temperature range (below 1000 K, the lower boundary is specified on the first line of the species entry)."
   ]
  },
  {
   "cell_type": "markdown",
   "metadata": {},
   "source": [
    "### Additional Specifications\n",
    "Your final .xml file should contain the following specifications:\n",
    "\n",
    "1. A `speciesArray` field that contains a space-separated list of all of the species present in the file.\n",
    "2. Each species contains a `species` field with a `name` attribute as the species name.\n",
    "\n",
    "    1. For each temperature range, use a sub-field with the minimum and maximum temperature as attributes.\n",
    "    2. `floatArray` field that contains comma-separated string of each coefficient.\n",
    "    \n",
    "You can reference the `example_thermo.xml` file for an example .xml output."
   ]
  },
  {
   "cell_type": "markdown",
   "metadata": {},
   "source": [
    "**Hint**: First parse the file into a Python dictionary. "
   ]
  },
  {
   "cell_type": "code",
   "execution_count": 1,
   "metadata": {
    "scrolled": false
   },
   "outputs": [
    {
     "name": "stdout",
     "output_type": "stream",
     "text": [
      "Error getting data for i=37\n",
      "Error getting data for i=41\n"
     ]
    }
   ],
   "source": [
    "###############################################################################\n",
    "# Parse data from thermo.txt.\n",
    "###############################################################################\n",
    "\n",
    "species_data = {}\n",
    "\n",
    "def split_line_by_column_width(line, width=15, conv_float=True):\n",
    "    result = [line[i:i+width].strip() for i in range(0, len(line), width)]\n",
    "    result = [q for q in result if q != ''] # remove empty strings\n",
    "    if conv_float:\n",
    "        try:\n",
    "            result = [float(i) for i in result]\n",
    "        except ValueError:\n",
    "            print('Encountered error converting line values to floats.')\n",
    "            print(result)\n",
    "    return result\n",
    "\n",
    "def get_species_data(lines):\n",
    "    \"\"\"Returns (species, dict) containing necessary data for XML file.\n",
    "        \n",
    "    Args:\n",
    "        lines: Should contain lines 1-4 of the thermo file for a species.\n",
    "    \"\"\"\n",
    "    # Exit if this was end-of-file garbage.\n",
    "    if len(lines) < 4:\n",
    "        return\n",
    "    \n",
    "    # Format lines to make data more easily retrievable.\n",
    "    lines[0] = lines[0].split()\n",
    "    lines[1] = split_line_by_column_width(lines[1])\n",
    "    lines[2] = split_line_by_column_width(lines[2])\n",
    "    lines[3] = split_line_by_column_width(lines[3])\n",
    "    \n",
    "    # Extract data from lines.\n",
    "    data = {} # container for data that will be put into XML for species\n",
    "    coeffs = []\n",
    "    coeffs.extend(lines[1][0:-1])\n",
    "    coeffs.extend(lines[2][0:-1])\n",
    "    coeffs.extend(lines[3][0:-1])\n",
    "    data['coeffs'] = coeffs\n",
    "    data['Tmin'] = lines[0][-4]\n",
    "    data['Tmax'] = lines[0][-3]\n",
    "    data['Tmid'] = lines[0][-2]\n",
    "    \n",
    "    species = lines[0][0]\n",
    "    return species, data\n",
    "    \n",
    "with open('thermo.txt', 'r', encoding='utf8') as f:\n",
    "    lines = f.readlines()\n",
    "    i_species_start = 5\n",
    "    for i, line in enumerate(lines, 5):\n",
    "        if i != i_species_start:\n",
    "            continue\n",
    "            \n",
    "        i_species_start += 4\n",
    "        try:\n",
    "            species, data = get_species_data(lines[i:i+4])\n",
    "            species_data[species] = data\n",
    "        except:\n",
    "            # Assume this is because of end-of-file garbage.\n",
    "            print('Error getting data for i={0}'.format(i))"
   ]
  },
  {
   "cell_type": "markdown",
   "metadata": {},
   "source": [
    "The above error messages occur because we encounter breaks at the last lines of the `thermo.txt` file given the logic I use in the above script. I didn't want to hardcode the final row so instead settled on printing a warning."
   ]
  },
  {
   "cell_type": "code",
   "execution_count": 2,
   "metadata": {},
   "outputs": [],
   "source": [
    "###############################################################################\n",
    "# Write data to XML file.\n",
    "###############################################################################\n",
    "\n",
    "import xml.etree.ElementTree as ET\n",
    "\n",
    "def create_str_from_coeffs(coeffs):\n",
    "    str_coeffs = [str(c) for c in coeffs]\n",
    "    return ', '.join(str_coeffs)\n",
    "    \n",
    "\n",
    "def add_species_element(name, data, parent):\n",
    "    species = ET.SubElement(parent, 'species', name=name)\n",
    "    thermo = ET.SubElement(species, 'thermo')\n",
    "    # First <NASA> element.\n",
    "    nasa1 = ET.SubElement(thermo, 'NASA', Tmax=data['Tmid'], Tmin=data['Tmin'])\n",
    "    coeffs1 = data['coeffs'][0:7]\n",
    "    ET.SubElement(nasa1, 'floatArray', name='coeffs', \n",
    "                  size=str(len(coeffs1))).text = create_str_from_coeffs(coeffs1)\n",
    "    # Second <NASA> element.\n",
    "    nasa2 = ET.SubElement(thermo, 'NASA', Tmax=data['Tmax'], Tmin=data['Tmid'])\n",
    "    coeffs2 = data['coeffs'][7:]\n",
    "    ET.SubElement(nasa2, 'floatArray', name='coeffs', \n",
    "                  size=str(len(coeffs2))).text = create_str_from_coeffs(coeffs2)\n",
    "\n",
    "root = ET.Element('ctml')\n",
    "\n",
    "# <phase> element.\n",
    "phase = ET.SubElement(root, 'phase', id='hw9temp')\n",
    "ET.SubElement(phase, 'speciesArray', datasrc=\"#species_data\").text = ' '.join(\n",
    "    list(species_data.keys()))\n",
    "\n",
    "# All <species> elements within species.\n",
    "speciesData = ET.SubElement(root, 'speciesData', id='species_data')\n",
    "\n",
    "for species, data in species_data.items():\n",
    "    add_species_element(species, data, speciesData)\n",
    "\n",
    "# Save to file.\n",
    "tree = ET.ElementTree(root)\n",
    "tree.write('finalhw.xml')"
   ]
  },
  {
   "cell_type": "code",
   "execution_count": null,
   "metadata": {},
   "outputs": [],
   "source": []
  }
 ],
 "metadata": {
  "kernelspec": {
   "display_name": "Python 3",
   "language": "python",
   "name": "python3"
  },
  "language_info": {
   "codemirror_mode": {
    "name": "ipython",
    "version": 3
   },
   "file_extension": ".py",
   "mimetype": "text/x-python",
   "name": "python",
   "nbconvert_exporter": "python",
   "pygments_lexer": "ipython3",
   "version": "3.5.2"
  }
 },
 "nbformat": 4,
 "nbformat_minor": 1
}
