{
 "cells": [
  {
   "cell_type": "markdown",
   "metadata": {},
   "source": [
    "# Homework 4\n",
    "### Due Date:  Tuesday, September 26th at 11:59 PM"
   ]
  },
  {
   "cell_type": "markdown",
   "metadata": {},
   "source": [
    "## Problem 1\n",
    "The file `circles.txt` contains measurements of circle radii.  Your task is to write a script that reports the average area of the circles.  You will **not** use the `numpy` `mean` function.  Here are the requirements:\n",
    "1. Open `circles.txt`, read in the data, and convert the data to floats.\n",
    "2. Write a function that computes the area of a circle.\n",
    "3. Write a function, called `myave`, that computes the average of the areas of the circles.  At the very least, `myave` should accept the list of radii as one argument and the circle function that you wrote in step 2 as another argument.  There are other ways of doing this task, but I want you to do it this way.\n",
    "4. Print out the result."
   ]
  },
  {
   "cell_type": "code",
   "execution_count": 2,
   "metadata": {
    "collapsed": false
   },
   "outputs": [
    {
     "data": {
      "text/plain": [
       "[0.9681561892825645,\n",
       " 0.9383571028606462,\n",
       " 0.9633466725922948,\n",
       " 1.1190000819885169,\n",
       " 0.9015032470985564]"
      ]
     },
     "execution_count": 2,
     "metadata": {},
     "output_type": "execute_result"
    }
   ],
   "source": [
    "# Read in circle radii and ensure each element is a float.\n",
    "radii = open('circles.txt', 'r').read().splitlines()\n",
    "radii = [float(c) for c in radii]\n",
    "radii[:5]"
   ]
  },
  {
   "cell_type": "code",
   "execution_count": 3,
   "metadata": {
    "collapsed": false
   },
   "outputs": [
    {
     "name": "stdout",
     "output_type": "stream",
     "text": [
      "Average circle area = 3.19589909699065\n"
     ]
    }
   ],
   "source": [
    "def circle_area(r, pi=3.1415926535):\n",
    "    return pi * pow(r, 2)\n",
    "\n",
    "def myave(circle_radii, f_area):\n",
    "    \"\"\" Returns average area for circles represented by their radii in \n",
    "    circle_radii, and where f_area is a function to calculate a circle's \n",
    "    area by its radius.\n",
    "    \"\"\"\n",
    "    return sum(f_area(radius) for radius in circle_radii) / len(circle_radii)\n",
    "\n",
    "avg_area = myave(radii, circle_area)\n",
    "print('Average circle area = {}'.format(avg_area))"
   ]
  },
  {
   "cell_type": "markdown",
   "metadata": {},
   "source": [
    "## Problem 2\n",
    "The goal of this problem is to write a simple bank account withdraw system.  The problem is based off of one in _Structure and Interpretation of Computer Programs_.\n",
    "\n",
    "**Instructions:** Do each part in a different cell block and clearly label each part.\n",
    "\n",
    "### Part 1\n",
    "Write a closure to make withdraws from a bank account.  The outer function should be accept the initial balance as an argument (I'll refer to this argument as `balance` in this problem statement, but you can call it whatever you want).  The inner function should accept the withdraw amount as an argument and return the new balance.\n",
    "\n",
    "**NOTE1:** For this part, do not try to reassign `balance` in the inner function.  Just see what happens when you return a new balance.  You can store the new balance in a new name (call it `new_bal` if you want) or just return the new balance directly.\n",
    "\n",
    "**NOTE2:** You may want to check for basic exceptions (e.g. attempting to withdraw more than the current balance).\n",
    "\n",
    "Once you write your functions, demo them in your notebook as follows:\n",
    "```python\n",
    "wd = make_withdraw(init_balance)\n",
    "wd(withdraw_amount)\n",
    "wd(new_withdraw_amount)\n",
    "```\n",
    "You should observe that this does not behave correctly.  Why not?\n",
    "\n",
    "### Part 2\n",
    "You can fix things up by updating `balance` within the inner function.  But this won't work.  Try it out and explain why it doesn't work.  Try to use the language that we used in lecture.  **Hint:** [Python Execution Model](https://docs.python.org/3/reference/executionmodel.html).\n",
    "\n",
    "### Part 3\n",
    "Now, make just one small change to your code from Part 2.  Declare `balance` as a nonlocal variable using the nonlocal keyword.  That is, before you get to the inner function, say `nonlocal balance`.  Here's some information on the `nonlocal` statement:  [`nonlocal`](https://docs.python.org/3/reference/simple_stmts.html#nonlocal).\n",
    "\n",
    "Now test things out like you did in Part 1.  It should be behaving correctly now.\n",
    "\n",
    "### Part 4\n",
    "Finally, visualize your code with [Python Tutor](http://pythontutor.com/) and embed your visualization in your notebook.  Pay attention to the variable `balance`."
   ]
  },
  {
   "cell_type": "code",
   "execution_count": 4,
   "metadata": {
    "collapsed": false
   },
   "outputs": [
    {
     "name": "stdout",
     "output_type": "stream",
     "text": [
      "Balance after withdrawing 20,000: 90000\n"
     ]
    }
   ],
   "source": [
    "# Part 1\n",
    "\n",
    "def make_withdraw(balance):\n",
    "    \"\"\" Returns callable. \"\"\"\n",
    "    def withdraw(amt):\n",
    "        if amt > balance:\n",
    "            raise ValueError('Withdrawal > Balance')\n",
    "        \n",
    "        return balance - amt\n",
    "    return withdraw\n",
    "        \n",
    "wd = make_withdraw(100000)\n",
    "wd(10000)\n",
    "print('Balance after withdrawing 20,000: {}'.format(wd(10000)))"
   ]
  },
  {
   "cell_type": "markdown",
   "metadata": {},
   "source": [
    "This does not work because we are only returning the new balance i.e. we are not updating the balance to a new balance anywhere in the code."
   ]
  },
  {
   "cell_type": "code",
   "execution_count": 5,
   "metadata": {
    "collapsed": false
   },
   "outputs": [
    {
     "ename": "UnboundLocalError",
     "evalue": "local variable 'balance' referenced before assignment",
     "output_type": "error",
     "traceback": [
      "\u001b[1;31m---------------------------------------------------------------------------\u001b[0m",
      "\u001b[1;31mUnboundLocalError\u001b[0m                         Traceback (most recent call last)",
      "\u001b[1;32m<ipython-input-5-d51e2cb86028>\u001b[0m in \u001b[0;36m<module>\u001b[1;34m()\u001b[0m\n\u001b[0;32m     12\u001b[0m \u001b[1;33m\u001b[0m\u001b[0m\n\u001b[0;32m     13\u001b[0m \u001b[0mwd\u001b[0m \u001b[1;33m=\u001b[0m \u001b[0mmake_withdraw_v2\u001b[0m\u001b[1;33m(\u001b[0m\u001b[1;36m100000\u001b[0m\u001b[1;33m)\u001b[0m\u001b[1;33m\u001b[0m\u001b[0m\n\u001b[1;32m---> 14\u001b[1;33m \u001b[0mwd\u001b[0m\u001b[1;33m(\u001b[0m\u001b[1;36m10000\u001b[0m\u001b[1;33m)\u001b[0m\u001b[1;33m\u001b[0m\u001b[0m\n\u001b[0m\u001b[0;32m     15\u001b[0m \u001b[0mprint\u001b[0m\u001b[1;33m(\u001b[0m\u001b[1;34m'Balance after withdrawing 20,000: {}'\u001b[0m\u001b[1;33m.\u001b[0m\u001b[0mformat\u001b[0m\u001b[1;33m(\u001b[0m\u001b[0mwd\u001b[0m\u001b[1;33m(\u001b[0m\u001b[1;36m10000\u001b[0m\u001b[1;33m)\u001b[0m\u001b[1;33m)\u001b[0m\u001b[1;33m)\u001b[0m\u001b[1;33m\u001b[0m\u001b[0m\n",
      "\u001b[1;32m<ipython-input-5-d51e2cb86028>\u001b[0m in \u001b[0;36mwithdraw\u001b[1;34m(amt)\u001b[0m\n\u001b[0;32m      4\u001b[0m     \u001b[1;34m\"\"\" Returns callable. \"\"\"\u001b[0m\u001b[1;33m\u001b[0m\u001b[0m\n\u001b[0;32m      5\u001b[0m     \u001b[1;32mdef\u001b[0m \u001b[0mwithdraw\u001b[0m\u001b[1;33m(\u001b[0m\u001b[0mamt\u001b[0m\u001b[1;33m)\u001b[0m\u001b[1;33m:\u001b[0m\u001b[1;33m\u001b[0m\u001b[0m\n\u001b[1;32m----> 6\u001b[1;33m         \u001b[1;32mif\u001b[0m \u001b[0mamt\u001b[0m \u001b[1;33m>\u001b[0m \u001b[0mbalance\u001b[0m\u001b[1;33m:\u001b[0m\u001b[1;33m\u001b[0m\u001b[0m\n\u001b[0m\u001b[0;32m      7\u001b[0m             \u001b[1;32mraise\u001b[0m \u001b[0mValueError\u001b[0m\u001b[1;33m(\u001b[0m\u001b[1;34m'Withdrawal > Balance'\u001b[0m\u001b[1;33m)\u001b[0m\u001b[1;33m\u001b[0m\u001b[0m\n\u001b[0;32m      8\u001b[0m         \u001b[1;31m# Set balance to new amount.\u001b[0m\u001b[1;33m\u001b[0m\u001b[1;33m\u001b[0m\u001b[0m\n",
      "\u001b[1;31mUnboundLocalError\u001b[0m: local variable 'balance' referenced before assignment"
     ]
    }
   ],
   "source": [
    "# Part 2\n",
    "\n",
    "def make_withdraw_v2(balance):\n",
    "    \"\"\" Returns callable. \"\"\"\n",
    "    def withdraw(amt):\n",
    "        if amt > balance:\n",
    "            raise ValueError('Withdrawal > Balance')\n",
    "        # Set balance to new amount.\n",
    "        balance -= amt\n",
    "        return balance\n",
    "    return withdraw\n",
    "\n",
    "wd = make_withdraw_v2(100000)\n",
    "wd(10000)\n",
    "print('Balance after withdrawing 20,000: {}'.format(wd(10000)))"
   ]
  },
  {
   "cell_type": "markdown",
   "metadata": {},
   "source": [
    "This does not work either because once the argument `balance` is \"captured\" by the `withdraw` inner function i.e. once we return the inner function in:\n",
    "    \n",
    "    `return withdraw`\n",
    "\n",
    "we have encapsulated the variable `balance` and prevented it from being changed. When we try updating the `balance` amount, we are effectively Whenever the function that is returned from `make_withdraw_v2` is called (which we store in the variable `wd`), at runtime it will decide that the `balance` variable is a local variable to the function (since we are assigning it an updated value within the function) and raise an error because we are referencing it before assigning anything to it."
   ]
  },
  {
   "cell_type": "markdown",
   "metadata": {},
   "source": [
    "## Problem 3\n",
    "Let's return to the data from Problem 1.  Write two functions: 1.) The first function should return the average circle radius (you can re-use the one you already wrote if you'd like, but you might need to update it slightly for this problem) and 2.) The second function should just use `numpy` to compute the average.\n",
    "\n",
    "Write a decorator to time the evaluation of each function.  You can use the timing decorator from lecture.\n",
    "\n",
    "#### Notes and Hints\n",
    "1. Be fair!\n",
    "2. To be as fair as possible, do the following:\n",
    "  1. Create an areas list/array _outside_ of your averaging functions.  This means that you should do a loop over the radii you read in from `circles.txt`, compute the area from each point, and store that area in an array.  Do you know why this is more fair?  Also, try to not use `append`.  Instead, preallocate space for your `area` list/array.\n",
    "  2. Your `my_ave` function should accept your areas data as a list.  Remember, to allocate a list you should do `[0.0]*N`: if you use such a construct your list will will be filled in with zeros.\n",
    "  3. Your `np_ave` function should accept your areas data as a `numpy` array.  To allocate a `numpy` array do `areas_np = np.zeros(len(radii))`.\n",
    "  4. Now both functions are using the best data types possible for their tasks."
   ]
  },
  {
   "cell_type": "code",
   "execution_count": 6,
   "metadata": {
    "collapsed": false
   },
   "outputs": [
    {
     "name": "stdout",
     "output_type": "stream",
     "text": [
      "Time Elapsed 0.0\n",
      "Time Elapsed 0.0\n"
     ]
    },
    {
     "data": {
      "text/plain": [
       "3.1958990969906487"
      ]
     },
     "execution_count": 6,
     "metadata": {},
     "output_type": "execute_result"
    }
   ],
   "source": [
    "import time\n",
    "import numpy as np\n",
    "\n",
    "# Timer decorator from class.\n",
    "def timer(f):\n",
    "    def inner(*args):\n",
    "        t0 = time.time()\n",
    "        output = f(*args)\n",
    "        elapsed = time.time() - t0\n",
    "        print(\"Time Elapsed\", elapsed)\n",
    "        return output\n",
    "    return inner\n",
    "\n",
    "# Fill Python list of areas (by preallocating memory) and\n",
    "# np array to enter into average functions.\n",
    "list_area = [None] * len(radii)\n",
    "areas_np = np.zeros(len(radii))\n",
    "for i, radius in enumerate(radii):\n",
    "    list_area[i] = circle_area(radius)\n",
    "    areas_np[i] = circle_area(radius)\n",
    "    \n",
    "# Wrap numpy's and my average function with timer decorator.\n",
    "my_ave = timer(lambda x: sum(x) / len(x))\n",
    "np_ave = timer(lambda x: np.sum(x) / len(x))\n",
    "\n",
    "# Call both functions to compare time.\n",
    "my_ave(list_area)\n",
    "np_ave(areas_np)"
   ]
  },
  {
   "cell_type": "markdown",
   "metadata": {},
   "source": [
    "## Problem 4\n",
    "Write a decorator to check if a quantity returned from a function is positive.  An exception should be raised if the quantity is not positive.\n",
    "\n",
    "Write three functions and decorate them with your decorator:\n",
    "1. A function that returns the discriminant $\\displaystyle d = b^{2} - 4ac$\n",
    "2. A function that computes the absolute value (you must write this yourself...do not use built-ins)\n",
    "3. A function of your own choosing.\n",
    "\n",
    "Show that your decorator behaves correctly.  That is, for each function, show two cases (where applicable):\n",
    "1. A case where positivity is not violated\n",
    "2. A case where positivity is violated"
   ]
  },
  {
   "cell_type": "code",
   "execution_count": 12,
   "metadata": {
    "collapsed": false,
    "scrolled": true
   },
   "outputs": [
    {
     "name": "stdout",
     "output_type": "stream",
     "text": [
      "Success: Discriminant function worked with following positive output: 0\n",
      "Success: Discriminant function successfully raised error: Returned value is negative\n",
      "Success: Retrieved absolute value of -2 with no exception: 2\n",
      "Success: Computed positive yrs to reach T. Swift net worth off basic GOOG salary: 3500.0\n",
      "Success: Exception raised when func_tswift() was negative.\n"
     ]
    }
   ],
   "source": [
    "def ensure_positive_result(f):\n",
    "    \"\"\" Returns callable that raises RuntimeError if returned value is not positive. \"\"\"\n",
    "    def inner(*args):\n",
    "        result = f(*args)\n",
    "        if result < 0:\n",
    "            raise RuntimeError('Returned value is negative')\n",
    "        return result\n",
    "    return inner\n",
    "\n",
    "def discriminant(a, b, c):\n",
    "    return pow(b, 2) - 4*a*c\n",
    "    \n",
    "def abs_custom(q):\n",
    "    if q < 0:\n",
    "        return -1*q\n",
    "    return q\n",
    "\n",
    "def years_to_tswift(ann_post_tax_salary):\n",
    "    \"\"\" Returns number of years I'd have to work making annual (post-tax) salary to reach \n",
    "    Taylor Swift's net worth.\n",
    "    \"\"\"\n",
    "    return 280000000 / ann_post_tax_salary\n",
    "    \n",
    "# Test discriminant function.\n",
    "func_disc = ensure_positive_result(discriminant)\n",
    "try: # Result is positive so function should work.\n",
    "    discriminant = func_disc(1, 2, 1)\n",
    "    print('Success: Discriminant function worked with following positive output: {}'.format(discriminant))\n",
    "except:\n",
    "    print('Failure: Discriminant function raised Exception when none was expected.')\n",
    "\n",
    "try: # Should raise exception since result will be negative.\n",
    "    discriminant = func_disc(2, 1, 2)\n",
    "except Exception as e:\n",
    "    print('Success: Discriminant function successfully raised error: {0}'.format(e))\n",
    "\n",
    "# Test absolute value function, which under no circumstance should return a negative value.\n",
    "func_abs = ensure_positive_result(abs_custom)\n",
    "try:\n",
    "    arg = -2\n",
    "    result = func_abs(2)\n",
    "    print('Success: Retrieved absolute value of {} with no exception: {}'.format(arg, result))\n",
    "except:\n",
    "    print('Failure: Raised exception retrieving absolute value when none expected.')\n",
    "    \n",
    "# Test custom function.\n",
    "func_tswift = ensure_positive_result(years_to_tswift)\n",
    "try:\n",
    "    google_role_salary = 80000\n",
    "    yrs = func_tswift(google_role_salary)\n",
    "    print('Success: Computed positive yrs to reach T. Swift net worth off basic GOOG salary: {}'.format(yrs))\n",
    "except:\n",
    "    print('Failure: Raised exception retrieving func_tswift when none expected.')\n",
    "\n",
    "try:\n",
    "    spender_salary = -20000\n",
    "    yrs = func_tswift(spender_salary)\n",
    "    print('Failure: No exception raised when func_tswift() was negative.')\n",
    "except:\n",
    "    print('Success: Exception raised when func_tswift() was negative.')\n"
   ]
  },
  {
   "cell_type": "markdown",
   "metadata": {},
   "source": [
    "## Problem 5\n",
    "Coming soon..."
   ]
  }
 ],
 "metadata": {
  "kernelspec": {
   "display_name": "Python 3",
   "language": "python",
   "name": "python3"
  },
  "language_info": {
   "codemirror_mode": {
    "name": "ipython",
    "version": 3
   },
   "file_extension": ".py",
   "mimetype": "text/x-python",
   "name": "python",
   "nbconvert_exporter": "python",
   "pygments_lexer": "ipython3",
   "version": "3.5.2"
  }
 },
 "nbformat": 4,
 "nbformat_minor": 2
}
