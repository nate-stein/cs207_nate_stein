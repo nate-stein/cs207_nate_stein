{
 "cells": [
  {
   "cell_type": "code",
   "execution_count": 9,
   "metadata": {
    "collapsed": false
   },
   "outputs": [
    {
     "name": "stdout",
     "output_type": "stream",
     "text": [
      "Microsoft Windows [Version 6.3.9600]\r\n",
      "(c) 2013 Microsoft Corporation. All rights reserved.\r\n",
      "\r\n",
      "C:\\Users\\Nathaniel>cd \"C:\\Users\\Nathaniel\\AppData\\Local\\Temp\"\n",
      "\r\n",
      "C:\\Users\\Nathaniel\\AppData\\Local\\Temp>git clone \"https://github.com/impaler100/playground.git\"\n",
      "\r\n",
      "C:\\Users\\Nathaniel\\AppData\\Local\\Temp>"
     ]
    },
    {
     "name": "stderr",
     "output_type": "stream",
     "text": [
      "Cloning into 'playground'...\n"
     ]
    }
   ],
   "source": [
    "%%cmd\n",
    "cd \"C:\\Users\\Nathaniel\\AppData\\Local\\Temp\"\n",
    "git clone \"https://github.com/impaler100/playground.git\""
   ]
  },
  {
   "cell_type": "code",
   "execution_count": 10,
   "metadata": {
    "collapsed": false
   },
   "outputs": [
    {
     "name": "stdout",
     "output_type": "stream",
     "text": [
      "Microsoft Windows [Version 6.3.9600]\r\n",
      "(c) 2013 Microsoft Corporation. All rights reserved.\r\n",
      "\r\n",
      "C:\\Users\\Nathaniel>cd \"C:\\Users\\Nathaniel\\AppData\\Local\\Temp\\playground\"\n",
      "\r\n",
      "C:\\Users\\Nathaniel\\AppData\\Local\\Temp\\playground>git pull origin mybranch1\n",
      "Merge made by the 'recursive' strategy.\n",
      " books.md | 1 +\n",
      " 1 file changed, 1 insertion(+)\n",
      " create mode 100644 books.md\n",
      "\r\n",
      "C:\\Users\\Nathaniel\\AppData\\Local\\Temp\\playground>ls\n",
      "\r\n",
      "C:\\Users\\Nathaniel\\AppData\\Local\\Temp\\playground>"
     ]
    },
    {
     "name": "stderr",
     "output_type": "stream",
     "text": [
      "From https://github.com/impaler100/playground\n",
      " * branch            mybranch1  -> FETCH_HEAD\n",
      "'ls' is not recognized as an internal or external command,\r\n",
      "operable program or batch file.\r\n"
     ]
    }
   ],
   "source": [
    "%%cmd\n",
    "cd \"C:\\Users\\Nathaniel\\AppData\\Local\\Temp\\playground\"\n",
    "git pull origin mybranch1\n",
    "ls"
   ]
  },
  {
   "cell_type": "code",
   "execution_count": 11,
   "metadata": {
    "collapsed": false
   },
   "outputs": [
    {
     "name": "stdout",
     "output_type": "stream",
     "text": [
      "Microsoft Windows [Version 6.3.9600]\r\n",
      "(c) 2013 Microsoft Corporation. All rights reserved.\r\n",
      "\r\n",
      "C:\\Users\\Nathaniel>cd \"C:\\Users\\Nathaniel\\AppData\\Local\\Temp\\playground\"\n",
      "\r\n",
      "C:\\Users\\Nathaniel\\AppData\\Local\\Temp\\playground>git status\n",
      "On branch master\n",
      "Your branch is ahead of 'origin/master' by 2 commits.\n",
      "  (use \"git push\" to publish your local commits)\n",
      "nothing to commit, working tree clean\n",
      "\r\n",
      "C:\\Users\\Nathaniel\\AppData\\Local\\Temp\\playground>"
     ]
    }
   ],
   "source": [
    "%%cmd\n",
    "cd \"C:\\Users\\Nathaniel\\AppData\\Local\\Temp\\playground\"\n",
    "git status"
   ]
  },
  {
   "cell_type": "code",
   "execution_count": 13,
   "metadata": {
    "collapsed": false
   },
   "outputs": [
    {
     "name": "stdout",
     "output_type": "stream",
     "text": [
      "Microsoft Windows [Version 6.3.9600]\r\n",
      "(c) 2013 Microsoft Corporation. All rights reserved.\r\n",
      "\r\n",
      "C:\\Users\\Nathaniel>cd \"C:\\Users\\Nathaniel\\AppData\\Local\\Temp\\playground\"\n",
      "\r\n",
      "C:\\Users\\Nathaniel\\AppData\\Local\\Temp\\playground>git reset --hard origin/master\n",
      "HEAD is now at 5e459e3 Shared attribution between Joe and Sally.\n",
      "\r\n",
      "C:\\Users\\Nathaniel\\AppData\\Local\\Temp\\playground>"
     ]
    }
   ],
   "source": [
    "%%cmd\n",
    "cd \"C:\\Users\\Nathaniel\\AppData\\Local\\Temp\\playground\"\n",
    "git reset --hard origin/master"
   ]
  },
  {
   "cell_type": "code",
   "execution_count": 14,
   "metadata": {
    "collapsed": false
   },
   "outputs": [
    {
     "name": "stdout",
     "output_type": "stream",
     "text": [
      "Microsoft Windows [Version 6.3.9600]\r\n",
      "(c) 2013 Microsoft Corporation. All rights reserved.\r\n",
      "\r\n",
      "C:\\Users\\Nathaniel>cd \"C:\\Users\\Nathaniel\\AppData\\Local\\Temp\\playground\"\n",
      "\r\n",
      "C:\\Users\\Nathaniel\\AppData\\Local\\Temp\\playground>git status\n",
      "On branch master\n",
      "Your branch is up-to-date with 'origin/master'.\n",
      "nothing to commit, working tree clean\n",
      "\r\n",
      "C:\\Users\\Nathaniel\\AppData\\Local\\Temp\\playground>"
     ]
    }
   ],
   "source": [
    "%%cmd\n",
    "cd \"C:\\Users\\Nathaniel\\AppData\\Local\\Temp\\playground\"\n",
    "git status"
   ]
  },
  {
   "cell_type": "markdown",
   "metadata": {},
   "source": [
    "## Problem 2: **Git** and checking out a single file"
   ]
  },
  {
   "cell_type": "code",
   "execution_count": 20,
   "metadata": {
    "collapsed": false
   },
   "outputs": [
    {
     "name": "stdout",
     "output_type": "stream",
     "text": [
      "Microsoft Windows [Version 6.3.9600]\r\n",
      "(c) 2013 Microsoft Corporation. All rights reserved.\r\n",
      "\r\n",
      "C:\\Users\\Nathaniel>cd \"C:\\Users\\Nathaniel\\AppData\\Local\\Temp\\playground\"\n",
      "\r\n",
      "C:\\Users\\Nathaniel\\AppData\\Local\\Temp\\playground>git fetch\n",
      "\r\n",
      "C:\\Users\\Nathaniel\\AppData\\Local\\Temp\\playground>git merge origin/master\n",
      "Already up-to-date.\n",
      "\r\n",
      "C:\\Users\\Nathaniel\\AppData\\Local\\Temp\\playground>"
     ]
    }
   ],
   "source": [
    "%%cmd\n",
    "cd \"C:\\Users\\Nathaniel\\AppData\\Local\\Temp\\playground\"\n",
    "git fetch\n",
    "git merge origin/master"
   ]
  },
  {
   "cell_type": "code",
   "execution_count": 25,
   "metadata": {
    "collapsed": false
   },
   "outputs": [
    {
     "name": "stdout",
     "output_type": "stream",
     "text": [
      "Microsoft Windows [Version 6.3.9600]\r\n",
      "(c) 2013 Microsoft Corporation. All rights reserved.\r\n",
      "\r\n",
      "C:\\Users\\Nathaniel>cd \"C:\\Users\\Nathaniel\\AppData\\Local\\Temp\\playground\"\n",
      "\r\n",
      "C:\\Users\\Nathaniel\\AppData\\Local\\Temp\\playground>git checkout origin/master -- README.md\n",
      "\r\n",
      "C:\\Users\\Nathaniel\\AppData\\Local\\Temp\\playground>"
     ]
    }
   ],
   "source": [
    "%%cmd\n",
    "cd \"C:\\Users\\Nathaniel\\AppData\\Local\\Temp\\playground\"\n",
    "git checkout origin/master -- README.md"
   ]
  },
  {
   "cell_type": "code",
   "execution_count": 27,
   "metadata": {
    "collapsed": false
   },
   "outputs": [
    {
     "name": "stdout",
     "output_type": "stream",
     "text": [
      "Microsoft Windows [Version 6.3.9600]\r\n",
      "(c) 2013 Microsoft Corporation. All rights reserved.\r\n",
      "\r\n",
      "C:\\Users\\Nathaniel>cd \"C:\\Users\\Nathaniel\\AppData\\Local\\Temp\\playground\"\n",
      "\r\n",
      "C:\\Users\\Nathaniel\\AppData\\Local\\Temp\\playground>git status\n",
      "On branch master\n",
      "Your branch is up-to-date with 'origin/master'.\n",
      "nothing to commit, working tree clean\n",
      "\r\n",
      "C:\\Users\\Nathaniel\\AppData\\Local\\Temp\\playground>git commit -m \"Updated README file per HW3.\"\n",
      "On branch master\n",
      "Your branch is up-to-date with 'origin/master'.\n",
      "nothing to commit, working tree clean\n",
      "\r\n",
      "C:\\Users\\Nathaniel\\AppData\\Local\\Temp\\playground>git status\n",
      "On branch master\n",
      "Your branch is up-to-date with 'origin/master'.\n",
      "nothing to commit, working tree clean\n",
      "\r\n",
      "C:\\Users\\Nathaniel\\AppData\\Local\\Temp\\playground>git push\n",
      "\r\n",
      "C:\\Users\\Nathaniel\\AppData\\Local\\Temp\\playground>"
     ]
    },
    {
     "name": "stderr",
     "output_type": "stream",
     "text": [
      "Everything up-to-date\n"
     ]
    }
   ],
   "source": [
    "%%cmd\n",
    "cd \"C:\\Users\\Nathaniel\\AppData\\Local\\Temp\\playground\"\n",
    "git status\n",
    "git commit -m \"Updated README file per HW3.\"\n",
    "git status\n",
    "git push"
   ]
  },
  {
   "cell_type": "markdown",
   "metadata": {},
   "source": [
    "## Problem 3"
   ]
  },
  {
   "cell_type": "code",
   "execution_count": 29,
   "metadata": {
    "collapsed": false
   },
   "outputs": [
    {
     "data": {
      "text/plain": [
       "['Python', 'C++', 'Java', 'Python', 'Python']"
      ]
     },
     "execution_count": 29,
     "metadata": {},
     "output_type": "execute_result"
    }
   ],
   "source": [
    "# Load lines from languages.txt into list.\n",
    "# Used read().splitlines() instead of readlines() to avoid loading newline char.\n",
    "path = r'C:\\Users\\Nathaniel\\cs207_nate_stein\\lectures\\L4\\languages.txt'\n",
    "languages = open(path, 'r').read().splitlines()\n",
    "languages[:5]"
   ]
  },
  {
   "cell_type": "code",
   "execution_count": 34,
   "metadata": {
    "collapsed": false
   },
   "outputs": [],
   "source": [
    "from collections import Counter\n",
    "language_counter = Counter(languages)"
   ]
  },
  {
   "cell_type": "code",
   "execution_count": 36,
   "metadata": {
    "collapsed": false
   },
   "outputs": [
    {
     "data": {
      "text/plain": [
       "<matplotlib.text.Text at 0xda83492c18>"
      ]
     },
     "execution_count": 36,
     "metadata": {},
     "output_type": "execute_result"
    },
    {
     "data": {
      "image/png": "[encoded data removed]",
      "text/plain": [
       "<matplotlib.figure.Figure at 0xda83400828>"
      ]
     },
     "metadata": {},
     "output_type": "display_data"
    }
   ],
   "source": [
    "%matplotlib inline\n",
    "import matplotlib.pyplot as plt\n",
    "import numpy as np\n",
    "\n",
    "x_coords = np.arange(1, len(counter) + 1)\n",
    "freqs = language_counter.values()\n",
    "plt.bar(x_coords, freqs, align='center')\n",
    "plt.xticks(x_coords, language_counter.keys())\n",
    "plt.title('Frequency of Programming Languages')"
   ]
  },
  {
   "cell_type": "markdown",
   "metadata": {},
   "source": [
    "## Problem 4\n",
    "\n",
    "Purposely used a tuple instead of list for (A, b, E) so that they can be explicitly broken out in function (shown below)."
   ]
  },
  {
   "cell_type": "code",
   "execution_count": 38,
   "metadata": {
    "collapsed": false
   },
   "outputs": [],
   "source": [
    "from math import *\n",
    "\n",
    "def arrhenius_rate(params, T, R=8.314):\n",
    "    \"\"\" Returns reaction rate coefficient using the Arrhenius rate.\n",
    "        \n",
    "    Params\n",
    "    ------\n",
    "    params : tuple\n",
    "        Contains parameters (A, b, E).\n",
    "    T : float\n",
    "        Absolute temperature (in kelvins).\n",
    "    R : float\n",
    "        Universal gas constant (units J/molK).\n",
    "    \"\"\"\n",
    "    A, b, E = params\n",
    "    \n",
    "    # Check that params make sense.\n",
    "    if T <= 0:\n",
    "        raise ValueError('Absolute temperature for equation cannot be <= 0.')\n",
    "    if R == 0:\n",
    "        raise ValueError('Universal gas constant cannot be 0.') \n",
    "    \n",
    "    return A * pow(T, b) * pow(e, -E / (R * T))"
   ]
  },
  {
   "cell_type": "code",
   "execution_count": 67,
   "metadata": {
    "collapsed": false
   },
   "outputs": [
    {
     "data": {
      "text/plain": [
       "<matplotlib.text.Text at 0xda84cd4128>"
      ]
     },
     "execution_count": 67,
     "metadata": {},
     "output_type": "execute_result"
    },
    {
     "data": {
      "image/png": "[encoded data removed]",
      "text/plain": [
       "<matplotlib.figure.Figure at 0xda84e8b828>"
      ]
     },
     "metadata": {},
     "output_type": "display_data"
    }
   ],
   "source": [
    "# Plot of k(T).\n",
    "\n",
    "t = np.arange(1, 5001) # temperature set (0, 5000]\n",
    "params1 = (1, 1, 0.5)\n",
    "params2 = (1, 1.25, 0.5)\n",
    "params3 = (1, 1.5, 0.5)\n",
    "y1 = [arrhenius_rate(params1, i) for i in t]\n",
    "y2 = [arrhenius_rate(params2, i) for i in t]\n",
    "y3 = [arrhenius_rate(params3, i) for i in t]\n",
    "line1 = plt.plot(t, y1, label='b=1')\n",
    "plt.plot(t, y2, label='b=1.25')\n",
    "plt.plot(t, y3, label='b=1.5')\n",
    "plt.legend(loc=2, ncol=3, mode=\"expand\", borderaxespad=0.)\n",
    "plt.xlabel('Temperature (Kelvins)')\n",
    "plt.title('Arrhenius rate with A = 1, E = 0.5')"
   ]
  },
  {
   "cell_type": "code",
   "execution_count": null,
   "metadata": {
    "collapsed": true
   },
   "outputs": [],
   "source": []
  }
 ],
 "metadata": {
  "kernelspec": {
   "display_name": "Python 3",
   "language": "python",
   "name": "python3"
  },
  "language_info": {
   "codemirror_mode": {
    "name": "ipython",
    "version": 3
   },
   "file_extension": ".py",
   "mimetype": "text/x-python",
   "name": "python",
   "nbconvert_exporter": "python",
   "pygments_lexer": "ipython3",
   "version": "3.5.2"
  }
 },
 "nbformat": 4,
 "nbformat_minor": 0
}
