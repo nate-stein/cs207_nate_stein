{
 "cells": [
  {
   "cell_type": "markdown",
   "metadata": {},
   "source": [
    "# Homework 8\n",
    "## Due Date:  Tuesday, October 31st at 11:59 PM"
   ]
  },
  {
   "cell_type": "markdown",
   "metadata": {},
   "source": [
    "# Problem 1:  BST Traversal\n",
    "This problem builds on Problem 1 of Homework 7 in which you wrote a binary search tree.\n",
    "\n",
    "### Part 1\n",
    "\n",
    "As discussed in lecture, three different types to do a depth-first traversal are: preorder, inorder, and postorder. Here is a reference: [Tree Traversal](https://en.wikipedia.org/wiki/Tree_traversal#Depth-first_search).\n",
    "\n",
    "Write an iterator class called `DFSTraversal` with the following specifications:\n",
    "\n",
    "* `__init__(self, tree, traversalType)`: Constructor takes a `BinaryTree` object and one of the enums from `DFSTraversalTypes`\n",
    "\n",
    "```python\n",
    "from enum import Enum\n",
    "\n",
    "class DFSTraversalTypes(Enum):\n",
    "    PREORDER = 1\n",
    "    INORDER = 2\n",
    "    POSTORDER = 3\n",
    "```\n",
    "\n",
    "* `changeTraversalType(self, traversalType)`: Change the traversal type\n",
    "* `__iter__(self)`: This is the initialization of an iterator\n",
    "* `__next__(self)`: This is called in the iterator for getting the next value\n",
    "\n",
    "Here's how you might use your `DFSTraversal` class:\n",
    "\n",
    "```python\n",
    "input_array = [3, 9, 2, 11]\n",
    "bt = BinaryTree()\n",
    "for val in input_array:\n",
    "    bt.insert(val)\n",
    "traversal = DFSTraversal(bt, DFSTraversalTypes.INORDER)\n",
    "for val in traversal:\n",
    "    print(val)\n",
    "2\n",
    "3\n",
    "9\n",
    "11\n",
    "```\n",
    "\n",
    "### Part 2\n",
    "Put your `BinaryTree` class (from homework 7) and your `DFSTraversal` class (from Part 1 of this homework) in a file titled `TreeTraversal.py`."
   ]
  },
  {
   "cell_type": "markdown",
   "metadata": {},
   "source": [
    "---"
   ]
  },
  {
   "cell_type": "markdown",
   "metadata": {},
   "source": [
    "## Problem 2: Markov Chains\n",
    "\n",
    "[Markov Chains](https://en.wikipedia.org/wiki/Markov_chain) are widely used to model and predict discrete events. Underlying Markov chains are Markov processes which make the assumption that the outcome of a future event only depends on the event immediately preceeding it. In this exercise, we will be assuming that weather has Markov properties (e.g. today's weather is dependent only on yesterday's weather). We will use the Markov assumption to create a basic model for predicting weather."
   ]
  },
  {
   "cell_type": "markdown",
   "metadata": {},
   "source": [
    "To begin, let's categorize weather into 7 types: ['sunny', 'cloudy', 'rainy', 'snowy', 'windy', 'hailing'].\n",
    "\n",
    "In the `weather.csv` file accompanying this homework, each row corresponds to one type of weather (in the order given above) and each column is the probability of one type of weather occurring the following day (also in the order given above).\n",
    "\n",
    "The $ij$th element is the probability that the $j$th weather type occurs after the $i$th weather type. So for example, (1,2) is the probability a cloudy day occurs after a sunny day.\n",
    "\n",
    "Take a look at the data. Make sure you see how if the previous day was sunny, the following day will have a 0.4 probability of being sunny as well. If the previous day was raining (index $i = 3$), then the following day (index $j$) has a 0.05 probability of being windy ($j = 5$)."
   ]
  },
  {
   "cell_type": "markdown",
   "metadata": {},
   "source": [
    "### Part 1:  Parse the `.csv` file into a `Numpy` array"
   ]
  },
  {
   "cell_type": "code",
   "execution_count": 1,
   "metadata": {},
   "outputs": [
    {
     "name": "stdout",
     "output_type": "stream",
     "text": [
      "Weather Data:\n",
      "\n",
      "[[ 0.4   0.3   0.1   0.05  0.1   0.05]\n",
      " [ 0.3   0.4   0.1   0.1   0.08  0.02]\n",
      " [ 0.2   0.3   0.35  0.05  0.05  0.05]\n",
      " [ 0.1   0.2   0.25  0.3   0.1   0.05]\n",
      " [ 0.15  0.2   0.1   0.15  0.3   0.1 ]\n",
      " [ 0.1   0.2   0.35  0.1   0.05  0.2 ]]\n"
     ]
    }
   ],
   "source": [
    "import numpy as np\n",
    "data = np.genfromtxt(r'weather.csv', delimiter=',')\n",
    "print('Weather Data:\\n\\n{}'.format(data))"
   ]
  },
  {
   "cell_type": "markdown",
   "metadata": {},
   "source": [
    "### Part 2:  Create a class called `Markov` that has the following methods:\n",
    "\n",
    "* `load_data(array)`: loads the Numpy 2D array and stores it as a class variable.\n",
    "* `get_prob(previous_day, following_day)`: returns the probability of `following_day` weather given `previous_day` weather. \n",
    "\n",
    "**Note:** `previous_day` and `following_day` should be passed in string form (e.g. \"sunny\"), as opposed to an index (e.g. 0). \n",
    "\n",
    "\n"
   ]
  },
  {
   "cell_type": "code",
   "execution_count": 2,
   "metadata": {},
   "outputs": [
    {
     "name": "stdout",
     "output_type": "stream",
     "text": [
      "get_prob() method works successfully.\n"
     ]
    }
   ],
   "source": [
    "class Markov:\n",
    "    \"\"\"Markov process to predict weather.\n",
    "\n",
    "    Attributes\n",
    "    ----------\n",
    "    data : 2D array\n",
    "        data[i, j] is the probability that the jth  weather type occurs\n",
    "        after the  ith weather type.\n",
    "    weather_types : Dict[str, int]\n",
    "        Maps string representing weather types to the row (column) number\n",
    "        it is stored in within self.data. Defaults to class attribute\n",
    "        DEFAULT_WEATHER_TYPES.\n",
    "    \"\"\"\n",
    "    DEFAULT_WEATHER_TYPES = {'sunny':0, 'cloudy':1, 'rainy':2, 'snowy':3,\n",
    "                             'windy':4, 'hailing':5}\n",
    "\n",
    "    def __init__ (self):\n",
    "        self.data = None\n",
    "        self.weather_types = self.DEFAULT_WEATHER_TYPES\n",
    "\n",
    "    def load_data (self, array):\n",
    "        \"\"\"Ensures array is correctly dimensioned before storing it in data\n",
    "        attribute.\n",
    "        \"\"\"\n",
    "        data = np.array(array)\n",
    "        rows, cols = data.shape\n",
    "        if rows != cols:\n",
    "            raise ValueError('Data should contain same number of rows as '\n",
    "                             'columns.')\n",
    "        if rows != len(self.DEFAULT_WEATHER_TYPES):\n",
    "            raise ValueError(\n",
    "                  'Data dimensions not equal to number of expected weather '\n",
    "                  'types.')\n",
    "        self.data = array\n",
    "\n",
    "    def get_prob (self, previous_day, following_day):\n",
    "        row = self.DEFAULT_WEATHER_TYPES[previous_day]\n",
    "        col = self.DEFAULT_WEATHER_TYPES[following_day]\n",
    "        return self.data[row, col]\n",
    "    \n",
    "def test_get_prob ():\n",
    "    markov = Markov()\n",
    "    data = np.genfromtxt(r'weather.csv', delimiter=',')\n",
    "    markov.load_data(data)\n",
    "    expected = 0.15\n",
    "    actual = markov.get_prob('windy', 'snowy')\n",
    "    np.testing.assert_almost_equal(expected, actual)\n",
    "    print('get_prob() method works successfully.')\n",
    "    \n",
    "test_get_prob()"
   ]
  },
  {
   "cell_type": "markdown",
   "metadata": {},
   "source": [
    "---"
   ]
  },
  {
   "cell_type": "markdown",
   "metadata": {},
   "source": [
    "## Problem 3: Iterators"
   ]
  },
  {
   "cell_type": "markdown",
   "metadata": {},
   "source": [
    "Iterators are a convenient way to walk along your Markov chain.\n",
    "\n",
    "#### Part 1: Using your `Markov` class from Problem 3, write `Markov` as an iterator by implementing the `__iter__()` and `__next__()` methods.\n",
    "\n",
    "Remember:  \n",
    "* `__iter__()` should return the iterator object and should be implicitly called when the loop begins\n",
    "* The `__next()__` method should return the next value and is implicitly called at each step in the loop.\n",
    "\n",
    "Each 'next' step should be stochastic (i.e. randomly selected based on the relative probabilities of the following day weather types) and should return the next day's weather as a string (e.g. \"sunny\") rather than an index (e.g. 0)."
   ]
  },
  {
   "cell_type": "code",
   "execution_count": 3,
   "metadata": {},
   "outputs": [],
   "source": [
    "class Markov:\n",
    "    \"\"\"Predicts weather using day-by-day Markov process.\n",
    "\n",
    "    Attributes\n",
    "    ----------\n",
    "    data : 2D array\n",
    "        data[i, j] is the probability that the jth  weather type occurs\n",
    "        after the  ith weather type.\n",
    "    weather_types : Dict[str, int]\n",
    "        Maps string representing weather types to the row (column) number\n",
    "        it is stored in within self.data. Defaults to class attribute\n",
    "        DEFAULT_WEATHER_TYPES.\n",
    "    current_weather : str\n",
    "        Used when iterating to store the predicted weather. Must be\n",
    "        initialized before iteration can occur or RuntimeError is raised.\n",
    "    \"\"\"\n",
    "    DEFAULT_WEATHER_TYPES = {'sunny':0, 'cloudy':1, 'rainy':2, 'snowy':3,\n",
    "                             'windy':4, 'hailing':5}\n",
    "\n",
    "    def __init__ (self):\n",
    "        self.data = None\n",
    "        self.weather_types = self.DEFAULT_WEATHER_TYPES\n",
    "        self.current_weather = None\n",
    "\n",
    "    def load_data (self, array):\n",
    "        \"\"\"Ensures array is correctly dimensioned before storing it in data\n",
    "        attribute.\n",
    "        \"\"\"\n",
    "        data = np.array(array)\n",
    "        rows, cols = data.shape\n",
    "        if rows != cols:\n",
    "            raise ValueError('Data should contain same number of rows as '\n",
    "                             'columns.')\n",
    "        if rows != len(self.DEFAULT_WEATHER_TYPES):\n",
    "            raise ValueError(\n",
    "                  'Data dimensions not equal to number of expected weather '\n",
    "                  'types.')\n",
    "        self.data = array\n",
    "\n",
    "    def get_prob (self, previous_day, following_day):\n",
    "        row = self.DEFAULT_WEATHER_TYPES[previous_day]\n",
    "        col = self.DEFAULT_WEATHER_TYPES[following_day]\n",
    "        return self.data[row, col]\n",
    "\n",
    "    def __iter__ (self):\n",
    "        if self.current_weather is None:\n",
    "            raise RuntimeError('current_weather weather needs to be set '\n",
    "                               'before iterating.')\n",
    "        return self\n",
    "\n",
    "    def __next__ (self):\n",
    "        \"\"\"Returns simulated next-day weather.\"\"\"\n",
    "        self.current_weather = self.simulate_next_day(self.current_weather)\n",
    "        return self.current_weather\n",
    "\n",
    "    def simulate_next_day (self, current_weather):\n",
    "        \"\"\"Returns random next-day weather given current_weather and the\n",
    "        associated conditional probabilities from self.data.\n",
    "        \"\"\"\n",
    "        # Get relative next-day weather type probabilities.\n",
    "        row_index = self.weather_types[current_weather]\n",
    "        next_day_prob = self.data[row_index, :]\n",
    "\n",
    "        # Get random number from [0, 1] and see where it lies along the\n",
    "        # next-day probability continuum.\n",
    "        random_prob = np.random.uniform(0, 1)\n",
    "        cumulative_prob = 0\n",
    "        # col represents both the index of our next-day probabilities list as\n",
    "        # we iterate through the list as well as the corresponding column in\n",
    "        # self.data.\n",
    "        for col, prob in enumerate(next_day_prob):\n",
    "            cumulative_prob += prob\n",
    "            if random_prob <= cumulative_prob:\n",
    "                weather = self.weather_str_for_index(col)\n",
    "                return weather\n",
    "        raise RuntimeError('Failed to simulate next-day weather.')\n",
    "\n",
    "    def weather_str_for_index (self, index):\n",
    "        \"\"\"Returns string representation of weather for row/column index\n",
    "        using weather_types attribute.\n",
    "        \"\"\"\n",
    "        for key, value in self.weather_types.items():\n",
    "            if value == index:\n",
    "                return key\n",
    "        raise RuntimeError('Unable to map index {} to a weather '\n",
    "                           'type.'.format(index))"
   ]
  },
  {
   "cell_type": "markdown",
   "metadata": {},
   "source": [
    "#### Part 2: We want to predict what weather will be like in a week for 5 different cities.\n",
    "\n",
    "Now that we have our `Markov` iterator, we can try to predict what the weather will be like in seven days from now.\n",
    "\n",
    "Given each city's current weather in the dictionary `city_weather` (see below), simulate what the weather will be like in 7 days from now.  Rather than just producing one prediction per city, simulate 100 such predictions per city and store the most commonly occuring prediction.\n",
    "\n",
    "In your submission, print a dictionary `city_weather_predictions` that has each city as a key and the most commonly predicted weather as the corresponding value.\n",
    "\n",
    "**Note**: Don't worry if your values don't seem to make intuitive sense.  We made up the weather probabilities."
   ]
  },
  {
   "cell_type": "code",
   "execution_count": 4,
   "metadata": {},
   "outputs": [
    {
     "name": "stdout",
     "output_type": "stream",
     "text": [
      "Weather predictions:\n",
      "{'Seattle': 'cloudy', 'Boston': 'cloudy', 'Chicago': 'cloudy', 'Los Angeles': 'cloudy', 'San Fransisco': 'cloudy', 'Miami': 'cloudy', 'New York': 'cloudy'}\n"
     ]
    }
   ],
   "source": [
    "def predict_weather_in_x_days (markov, x):\n",
    "    \"\"\"Returns expected weather in x days by iterating over markov object x\n",
    "    times.\n",
    "    \"\"\"\n",
    "    if x < 1:\n",
    "        raise ValueError('x must be >= 1')\n",
    "    day = 0\n",
    "    for weather in markov:\n",
    "        day += 1\n",
    "        if day == x:\n",
    "            return weather\n",
    "\n",
    "\n",
    "def most_common (lst):\n",
    "    \"\"\"Returns most common item in list. From stackoverflow.com\"\"\"\n",
    "    return max(set(lst), key=lst.count)\n",
    "\n",
    "\n",
    "# Init Markov object.\n",
    "markov = Markov()\n",
    "data = np.genfromtxt(r'weather.csv', delimiter=',')\n",
    "markov.load_data(data)\n",
    "\n",
    "city_weather = {\n",
    "    'New York':'rainy',\n",
    "    'Chicago':'snowy',\n",
    "    'Seattle':'rainy',\n",
    "    'Boston':'hailing',\n",
    "    'Miami':'windy',\n",
    "    'Los Angeles':'cloudy',\n",
    "    'San Fransisco':'windy'\n",
    "    }\n",
    "\n",
    "# Create dict to store simulation results.\n",
    "city_weather_sim = {}\n",
    "for city in city_weather:\n",
    "    city_weather_sim[city] = []\n",
    "\n",
    "# Run 100 simulations of forecasting weather in 7 days.\n",
    "fcst_days = 7\n",
    "for i in range(100):\n",
    "    for city, init_weather in city_weather.items():\n",
    "        markov.current_weather = init_weather\n",
    "        prediction = predict_weather_in_x_days(markov, fcst_days)\n",
    "        city_weather_sim[city].append(prediction)\n",
    "\n",
    "# Create dict to store most common forecast for each city.\n",
    "city_weather_predictions = {}\n",
    "for city, simulations in city_weather_sim.items():\n",
    "    city_weather_predictions[city] = most_common(simulations)\n",
    "\n",
    "print('Weather predictions:')\n",
    "print(city_weather_predictions)"
   ]
  },
  {
   "cell_type": "code",
   "execution_count": null,
   "metadata": {},
   "outputs": [],
   "source": []
  }
 ],
 "metadata": {
  "kernelspec": {
   "display_name": "Python 3",
   "language": "python",
   "name": "python3"
  },
  "language_info": {
   "codemirror_mode": {
    "name": "ipython",
    "version": 3
   },
   "file_extension": ".py",
   "mimetype": "text/x-python",
   "name": "python",
   "nbconvert_exporter": "python",
   "pygments_lexer": "ipython3",
   "version": "3.5.2"
  }
 },
 "nbformat": 4,
 "nbformat_minor": 2
}
