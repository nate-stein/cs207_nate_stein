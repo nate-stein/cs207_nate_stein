{
 "cells": [
  {
   "cell_type": "markdown",
   "metadata": {},
   "source": [
    "# Exercise 1:  Documentation and Testing\n",
    "The following little program needs some documentation and some tests.  Since you didn't write it, I'll tell you what it's supposed to do.  You'll need to document it.  Feel free to test for additional exceptions if you have time but start with it as it is.\n",
    "\n",
    "The point of the program is to compute the $L_{2}$ norm of a vector $v$.  A second argument, if provided, will be interpreted as a vector of weights.  The second argument must have the same length as the input vector.\n",
    "\n",
    "**NOTE:** The input type of the vectors for this program should be a list of numbers.\n",
    "\n",
    "As a reminder, the weighted $L_2$ norm of a vector $v$ is given by \n",
    "\\begin{align*}\n",
    "  \\|v\\|_{W} = \\sqrt{\\sum_{i=1}^{N}{\\left(w_{i}v_{i}\\right)^2}}\n",
    "\\end{align*}\n",
    "where $N$ is the length of the vector $v$, $v_{i}$ is the i-th component of the vector $v$ and $w_{i}$ is the i-th component of the weight vector.\n",
    "\n",
    "You must write the documentation and a decent test suite.  Try to include some doctests as well!\n",
    "\n",
    "Next, use the `pytest` module to run the doctests and unit tests and to assess the code coverage.\n",
    "\n",
    "If you don't already have `pytest`, you can install it using `pip install pytest`.  If you have trouble installing, here's the website: [`pytest` installation](https://docs.pytest.org/en/latest/getting-started.html)."
   ]
  },
  {
   "cell_type": "code",
   "execution_count": 2,
   "metadata": {
    "collapsed": false
   },
   "outputs": [
    {
     "name": "stdout",
     "output_type": "stream",
     "text": [
      "Writing L2.py\n"
     ]
    }
   ],
   "source": [
    "%%file L2.py\n",
    "\n",
    "import numpy as np\n",
    "\n",
    "def L2(v, *args):\n",
    "    \"\"\" Calculates L2 norm of a vector.\n",
    "    \n",
    "    Args\n",
    "    ----\n",
    "    v: Sequence[Numeric]\n",
    "        Vector for which we wish to calculate the norm.\n",
    "    args: Sequence[floats], optional\n",
    "        Weight vector where args[i] will be applied to v[i]. If provided, length must be equal \n",
    "        to that of v.\n",
    "    \n",
    "    Returns\n",
    "    -------\n",
    "    Float representing the L2 norm.\n",
    "    \"\"\"\n",
    "    s = 0.0 # Initialize sum\n",
    "    if len(args) == 0: # No weight vector\n",
    "        for vi in v:\n",
    "            s += vi * vi\n",
    "    else: # Weight vector present\n",
    "        w = args[0] # Get the weight vector\n",
    "        if (len(w) != len(v)): # Check lengths of lists\n",
    "            raise ValueError(\"Length of list of weights must match length of target list.\")\n",
    "        for i, vi in enumerate(v):\n",
    "            s += w[i] * w[i] * vi * vi\n",
    "    return np.sqrt(s)"
   ]
  },
  {
   "cell_type": "code",
   "execution_count": 5,
   "metadata": {
    "collapsed": false
   },
   "outputs": [
    {
     "name": "stdout",
     "output_type": "stream",
     "text": [
      "Overwriting test_L2.py\n"
     ]
    }
   ],
   "source": [
    "%%file test_L2.py\n",
    "\n",
    "import L2\n",
    "ACCEPTABLE_ERR = 0.001\n",
    "\n",
    "def test_without_weights():\n",
    "    \"\"\" Tests L2() function without a weight vector. \"\"\"\n",
    "    v = [1, 3, -5]\n",
    "    expected = 5.91608\n",
    "    actual = L2.L2(v)\n",
    "    assert abs(expected - actual) <= ACCEPTABLE_ERR\n",
    "    \n",
    "def test_with_weights():\n",
    "    \"\"\" Tests L2() function with a weight vector. \"\"\"\n",
    "    v = [1, 3, -5]\n",
    "    w = [0.25, 0.25, 0.1]\n",
    "    expected = 2.5\n",
    "    actual = L2.L2(v, w)\n",
    "    assert abs(expected - actual) <= ACCEPTABLE_ERR\n",
    "    \n",
    "def test_vector_weights_different_len():\n",
    "    v = [1, 3, -5]\n",
    "    w = [0.25, 0.25]\n",
    "    try:\n",
    "        result = L2.L2(v, w)\n",
    "    except Exception as err:\n",
    "        assert type(err) == TypeError\n",
    "    else:\n",
    "        assert 1 == 0"
   ]
  },
  {
   "cell_type": "code",
   "execution_count": 6,
   "metadata": {
    "collapsed": false
   },
   "outputs": [
    {
     "name": "stdout",
     "output_type": "stream",
     "text": [
      "============================= test session starts =============================\n",
      "platform win32 -- Python 3.5.2, pytest-3.2.2, py-1.4.34, pluggy-0.4.0\n",
      "rootdir: C:\\Users\\Nathaniel\\cs207_nate_stein\\lectures\\L7, inifile:\n",
      "collected 3 items\n",
      "\n",
      "test_L2.py .FF\n",
      "\n",
      "================================== FAILURES ===================================\n",
      "______________________________ test_with_weights ______________________________\n",
      "\n",
      "    def test_with_weights():\n",
      "        \"\"\" Tests L2() function with a weight vector. \"\"\"\n",
      "        v = [1, 3, -5]\n",
      "        w = [0.25, 0.25, 0.1]\n",
      "        expected = 2.5\n",
      "        actual = L2.L2(v, w)\n",
      ">       assert abs(expected - actual) <= ACCEPTABLE_ERR\n",
      "E       assert 1.5645856533065148 <= 0.001\n",
      "E        +  where 1.5645856533065148 = abs((2.5 - 0.93541434669348533))\n",
      "\n",
      "test_L2.py:18: AssertionError\n",
      "______________________ test_vector_weights_different_len ______________________\n",
      "\n",
      "    def test_vector_weights_different_len():\n",
      "        v = [1, 3, -5]\n",
      "        w = [0.25, 0.25]\n",
      "        try:\n",
      ">           result = L2.L2(v, w)\n",
      "\n",
      "test_L2.py:24: \n",
      "_ _ _ _ _ _ _ _ _ _ _ _ _ _ _ _ _ _ _ _ _ _ _ _ _ _ _ _ _ _ _ _ _ _ _ _ _ _ _ _\n",
      "\n",
      "v = [1, 3, -5], args = ([0.25, 0.25],), s = 0.0, w = [0.25, 0.25]\n",
      "\n",
      "    def L2(v, *args):\n",
      "        \"\"\" Calculates L2 norm of a vector.\n",
      "    \n",
      "        Args\n",
      "        ----\n",
      "        v: Sequence[Numeric]\n",
      "            Vector for which we wish to calculate the norm.\n",
      "        args: Sequence[floats], optional\n",
      "            Weight vector where args[i] will be applied to v[i]. If provided, length must be equal\n",
      "            to that of v.\n",
      "    \n",
      "        Returns\n",
      "        -------\n",
      "        Float representing the L2 norm.\n",
      "        \"\"\"\n",
      "        s = 0.0 # Initialize sum\n",
      "        if len(args) == 0: # No weight vector\n",
      "            for vi in v:\n",
      "                s += vi * vi\n",
      "        else: # Weight vector present\n",
      "            w = args[0] # Get the weight vector\n",
      "            if (len(w) != len(v)): # Check lengths of lists\n",
      ">               raise ValueError(\"Length of list of weights must match length of target list.\")\n",
      "E               ValueError: Length of list of weights must match length of target list.\n",
      "\n",
      "L2.py:26: ValueError\n",
      "\n",
      "During handling of the above exception, another exception occurred:\n",
      "\n",
      "    def test_vector_weights_different_len():\n",
      "        v = [1, 3, -5]\n",
      "        w = [0.25, 0.25]\n",
      "        try:\n",
      "            result = L2.L2(v, w)\n",
      "        except Exception as err:\n",
      ">           assert type(err) == TypeError\n",
      "E           AssertionError: assert <class 'ValueError'> == TypeError\n",
      "E            +  where <class 'ValueError'> = type(ValueError('Length of list of weights must match length of target list.',))\n",
      "\n",
      "test_L2.py:26: AssertionError\n",
      "===================== 2 failed, 1 passed in 0.40 seconds ======================\n"
     ]
    }
   ],
   "source": [
    "!pytest test_L2.py"
   ]
  },
  {
   "cell_type": "code",
   "execution_count": null,
   "metadata": {
    "collapsed": true
   },
   "outputs": [],
   "source": []
  }
 ],
 "metadata": {
  "kernelspec": {
   "display_name": "Python 3",
   "language": "python",
   "name": "python3"
  },
  "language_info": {
   "codemirror_mode": {
    "name": "ipython",
    "version": 3
   },
   "file_extension": ".py",
   "mimetype": "text/x-python",
   "name": "python",
   "nbconvert_exporter": "python",
   "pygments_lexer": "ipython3",
   "version": "3.5.2"
  }
 },
 "nbformat": 4,
 "nbformat_minor": 2
}
