{
 "cells": [
  {
   "cell_type": "markdown",
   "metadata": {},
   "source": [
    "## Exercise 2\n",
    "This exercise will walk you through the creation of a dictionary.\n",
    "1. First, load the data in the `names.txt` file.  This file contains common names of some species.  Load this into a list.\n",
    "2. Do the same thing with the `species.txt` file.  This file contains chemical formulae for some species.\n",
    "3. Now create a dictionary where the data from `names.txt` are the values and the data from `species.txt` are the keys.\n",
    "  + You should automate the creation of the dictionary by using a `for` loop\n",
    "  + The `for` loop should iterate over the representation created by the `zip` function. You can refer to the example around line 32 in Lecture 4 for guidance.\n",
    "  + **HINT:** Initialize the dictionary by with `my_new_dict = {}` just before executing the `for` loop.\n",
    "4. Access a value from the dictonary and print it to the screen.\n",
    "\n",
    "**Note:** The same dictionary can be created by executing the following one-liner:  `species_dict_2 = dict(zip(species, names))`."
   ]
  },
  {
   "cell_type": "code",
   "execution_count": 12,
   "metadata": {
    "collapsed": false
   },
   "outputs": [
    {
     "name": "stdout",
     "output_type": "stream",
     "text": [
      "['Hydrogen', 'Oxygen', 'Hydroxyl', 'Water', 'Hydrogen Peroxide']\n",
      "['H2', 'O2', 'OH', 'H2O', 'H2O2']\n"
     ]
    }
   ],
   "source": [
    "# Load names & species into lists.\n",
    "names = open('names.txt').readlines()\n",
    "species = open('species.txt').readlines()\n",
    "\n",
    "# Remove newline character from both lists.\n",
    "names = [x.replace(\"\\n\",'') for x in names]\n",
    "species = [x.replace(\"\\n\",'') for x in species]\n",
    "print(names[:5])\n",
    "print(species[:5])"
   ]
  },
  {
   "cell_type": "code",
   "execution_count": 13,
   "metadata": {
    "collapsed": false
   },
   "outputs": [
    {
     "name": "stdout",
     "output_type": "stream",
     "text": [
      "H2\n"
     ]
    }
   ],
   "source": [
    "my_new_dict = {}\n",
    "for name, spec in zip(names, species):\n",
    "    if name not in my_new_dict:\n",
    "        my_new_dict[name] = spec\n",
    "print(my_new_dict['Hydrogen'])"
   ]
  },
  {
   "cell_type": "code",
   "execution_count": null,
   "metadata": {
    "collapsed": true
   },
   "outputs": [],
   "source": []
  }
 ],
 "metadata": {
  "kernelspec": {
   "display_name": "Python 3",
   "language": "python",
   "name": "python3"
  },
  "language_info": {
   "codemirror_mode": {
    "name": "ipython",
    "version": 3
   },
   "file_extension": ".py",
   "mimetype": "text/x-python",
   "name": "python",
   "nbconvert_exporter": "python",
   "pygments_lexer": "ipython3",
   "version": "3.5.2"
  }
 },
 "nbformat": 4,
 "nbformat_minor": 2
}
