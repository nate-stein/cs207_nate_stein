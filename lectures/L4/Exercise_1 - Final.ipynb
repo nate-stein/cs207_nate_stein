{
 "cells": [
  {
   "cell_type": "markdown",
   "metadata": {},
   "source": [
    "## Exercise 1\n",
    "\n",
    "Your task is to write a Python script to do the following:\n",
    "1. Read data from the file `prog_data.txt` into a list.\n",
    "  + Note:  Data in this file comes from the course survey.  The numbers represent the level of programming confidence that students had coming into the course on a scale of 1 to 5.\n",
    "2. Using the `enumerate` build-in type, perform a `for` loop to convert elements in the list from ints to floats.\n",
    "  + Remember that data will be read in as a string type.  You will do calculations which require floats.  To convert from a string to a float just do float(string).  However, note that this only works sometimes: [How to convert data types in Python 3](https://www.digitalocean.com/community/tutorials/how-to-convert-data-types-in-python-3).  It will work in our current use case.\n",
    "3. Using the `Counter` method from the `collections` library, determine what the most common number in your list is.\n",
    "  + Hint:  You will need to access the first element of the list returned by the `Counter` method.\n",
    "4. Print out the following for the user:\n",
    "  + Total number of respondents (suggestions: use the `len` function)\n",
    "  + Maximum number in the list (suggestion: use the `max` function)\n",
    "  + Minimum number in the list (suggestion: use the `min` function)\n",
    "  + Median of list (suggestion: use `numpy` --- look up median in `numpy`)\n",
    "  + Mean of list (suggestion: use `numpy` --- look up mean in `numpy`)\n",
    "  + Most common number in list with number of times it occurs.\n",
    "\n",
    "Note:  Please don't write a function to do this.  A script is sufficient for this exercise.  We'll get to functions soon.\n",
    "\n",
    "Your output should look something like:\n",
    "> The total number of respondants is 45.\n",
    "\n",
    "> The maximum programming confidence is 5.0.\n",
    "\n",
    "> The minimum programming confidence is 1.0.\n",
    "\n",
    "> The median programming level is 4.0.\n",
    "\n",
    "> The mean programming level is 3.4.\n",
    "\n",
    "> The most common programming level is 4.0 with 17 respondants."
   ]
  },
  {
   "cell_type": "code",
   "execution_count": 6,
   "metadata": {
    "collapsed": false
   },
   "outputs": [
    {
     "name": "stdout",
     "output_type": "stream",
     "text": [
      "[4, 2, 3, 4, 3]\n"
     ]
    }
   ],
   "source": [
    "txt_file = open('prog_data.txt')\n",
    "raw_lines = txt_file.readlines()\n",
    "# Convert to list of ints.\n",
    "my_list = [int(x.replace(\"\\n\", '')) for x in raw_lines]\n",
    "print(my_list[:5])"
   ]
  },
  {
   "cell_type": "code",
   "execution_count": 7,
   "metadata": {
    "collapsed": false
   },
   "outputs": [
    {
     "name": "stdout",
     "output_type": "stream",
     "text": [
      "[4.0, 2.0, 3.0, 4.0, 3.0]\n"
     ]
    }
   ],
   "source": [
    "# Convert to floats\n",
    "for i, q in enumerate(my_list):\n",
    "    my_list[i] = float(q)\n",
    "print(my_list[:5])"
   ]
  },
  {
   "cell_type": "code",
   "execution_count": 21,
   "metadata": {
    "collapsed": false
   },
   "outputs": [
    {
     "name": "stdout",
     "output_type": "stream",
     "text": [
      "Counter({4.0: 17, 3.0: 15, 5.0: 6, 1.0: 4, 2.0: 3})\n"
     ]
    }
   ],
   "source": [
    "# Create Counter object.\n",
    "import numpy as np # for later median/mean calculations\n",
    "import collections\n",
    "\n",
    "cnt = collections.Counter(my_list)\n",
    "print(cnt)"
   ]
  },
  {
   "cell_type": "code",
   "execution_count": 22,
   "metadata": {
    "collapsed": true
   },
   "outputs": [],
   "source": [
    "# Finding most common element.\n",
    "# Method 1 - for loop\n",
    "max_count = -1 # dummy placeholder\n",
    "most_common_conf = None \n",
    "# Loop through cnt to determine which key has highest value.\n",
    "for confidence, count in cnt.items():\n",
    "    if count > max_count:\n",
    "        most_common_conf = confidence\n",
    "        max_count = count"
   ]
  },
  {
   "cell_type": "code",
   "execution_count": 23,
   "metadata": {
    "collapsed": false
   },
   "outputs": [
    {
     "name": "stdout",
     "output_type": "stream",
     "text": [
      "The total number of respondants is 45.\n",
      "The maximum programming confidence is 5.0.\n",
      "The median programming level is 4.0.\n",
      "The mean programming level is 3.4.\n",
      "The most common programming level is 4.0 with 17 respondants.\n"
     ]
    }
   ],
   "source": [
    "# Summarize results\n",
    "print('The total number of respondants is {0}.'.format(len(my_list)))\n",
    "print('The maximum programming confidence is {0}.'.format(max(my_list)))\n",
    "print('The median programming level is {0}.'.format(np.median(my_list)))\n",
    "print('The mean programming level is {0}.'.format(np.mean(my_list)))\n",
    "print('The most common programming level is {0} with {1} respondants.'.format(most_common_conf, max_count))"
   ]
  },
  {
   "cell_type": "code",
   "execution_count": 24,
   "metadata": {
    "collapsed": true
   },
   "outputs": [],
   "source": [
    "# Finding most common element.\n",
    "# Method 2 - using Counter method (which I unfortunately learned after for loop)\n",
    "most_common_conf, max_count = cnt.most_common()[0]"
   ]
  },
  {
   "cell_type": "code",
   "execution_count": 25,
   "metadata": {
    "collapsed": false
   },
   "outputs": [
    {
     "name": "stdout",
     "output_type": "stream",
     "text": [
      "The total number of respondants is 45.\n",
      "The maximum programming confidence is 5.0.\n",
      "The median programming level is 4.0.\n",
      "The mean programming level is 3.4.\n",
      "The most common programming level is 4.0 with 17 respondants.\n"
     ]
    }
   ],
   "source": [
    "# Summarize results\n",
    "print('The total number of respondants is {0}.'.format(len(my_list)))\n",
    "print('The maximum programming confidence is {0}.'.format(max(my_list)))\n",
    "print('The median programming level is {0}.'.format(np.median(my_list)))\n",
    "print('The mean programming level is {0}.'.format(np.mean(my_list)))\n",
    "print('The most common programming level is {0} with {1} respondants.'.format(most_common_conf, max_count))"
   ]
  },
  {
   "cell_type": "code",
   "execution_count": null,
   "metadata": {
    "collapsed": true
   },
   "outputs": [],
   "source": []
  }
 ],
 "metadata": {
  "kernelspec": {
   "display_name": "Python 3",
   "language": "python",
   "name": "python3"
  },
  "language_info": {
   "codemirror_mode": {
    "name": "ipython",
    "version": 3
   },
   "file_extension": ".py",
   "mimetype": "text/x-python",
   "name": "python",
   "nbconvert_exporter": "python",
   "pygments_lexer": "ipython3",
   "version": "3.5.2"
  }
 },
 "nbformat": 4,
 "nbformat_minor": 2
}
