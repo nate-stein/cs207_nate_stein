{
 "cells": [
  {
   "cell_type": "markdown",
   "metadata": {},
   "source": [
    "# Exercise 2\n",
    "Write a function to compute the roots of a mathematical equation of the form\n",
    "\\begin{align}\n",
    "  ax^{2} + bx + c = 0.\n",
    "\\end{align}\n",
    "Your function should be sensitive enough to adapt to situations in which a user might accidentally set $a=0$, or $b=0$, or even $a=b=0$.  For example, if $a=0, b\\neq 0$, your function should print a warning and compute the roots of the resulting linear function.  It is up to you on how to handle the function header: feel free to use default keyword arguments, variable positional arguments, variable keyword arguments, or something else as you see fit.  Try to make it user friendly.\n",
    "\n",
    "Your function should return a tuple containing the roots of the provided equation.\n",
    "\n",
    "**Hint:** Quadratic equations can have complex roots of the form $r = a + ib$ where $i=\\sqrt{-1}$ (Python uses the notation $j=\\sqrt{-1}$).  To deal with complex roots, you should import the `cmath` library and use `cmath.sqrt` when computing square roots.  `cmath` will return a complex number for you.  You could handle complex roots yourself if you want, but you might as well use available libraries to save some work."
   ]
  },
  {
   "cell_type": "code",
   "execution_count": 4,
   "metadata": {
    "collapsed": false
   },
   "outputs": [
    {
     "name": "stdout",
     "output_type": "stream",
     "text": [
      "Roots = (-2.0,)\n"
     ]
    }
   ],
   "source": [
    "import cmath\n",
    "\n",
    "def compute_roots(a, b, c):\n",
    "    \"\"\" Returns roots for quadratic equation of form ax^2 + bx + c = 0 \"\"\"\n",
    "    if a == 0:\n",
    "        if b == 0:\n",
    "            if c == 0:\n",
    "                raise ValueError('Infititely many solutions!')\n",
    "            else:\n",
    "                raise ValueError('No solutions!')\n",
    "        else:\n",
    "            return (-c/b,)\n",
    "    \n",
    "    descriminant = (b^2) - (4 * a * c)\n",
    "    \n",
    "    sol1 = -b + cmath.sqrt(descriminant) / (2 * a)\n",
    "    sol2 = -b - cmath.sqrt(descriminant) / (2 * a)\n",
    "    return sol1, sol2\n",
    "\n",
    "a = 0\n",
    "b = 2\n",
    "c = 4\n",
    "try:\n",
    "    solution = compute_roots(0, 2, 4)\n",
    "    print('Roots = {}'.format(solution))\n",
    "except Exception as e:\n",
    "    print(e)"
   ]
  },
  {
   "cell_type": "code",
   "execution_count": null,
   "metadata": {
    "collapsed": true
   },
   "outputs": [],
   "source": []
  }
 ],
 "metadata": {
  "kernelspec": {
   "display_name": "Python 3",
   "language": "python",
   "name": "python3"
  },
  "language_info": {
   "codemirror_mode": {
    "name": "ipython",
    "version": 3
   },
   "file_extension": ".py",
   "mimetype": "text/x-python",
   "name": "python",
   "nbconvert_exporter": "python",
   "pygments_lexer": "ipython3",
   "version": "3.5.2"
  }
 },
 "nbformat": 4,
 "nbformat_minor": 2
}
