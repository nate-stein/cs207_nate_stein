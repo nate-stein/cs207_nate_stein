{
 "cells": [
  {
   "cell_type": "markdown",
   "metadata": {},
   "source": [
    "# Exercise 1\n",
    "Read and parse the chemical reactions `.xml` input file `rxns.xml`.\n",
    "\n",
    "\n",
    "1. Collect the species into a species list.  My output is `['H', 'O', 'OH', 'H2', 'O2']`.\n",
    "    \n",
    "    Some notes and hints:\n",
    "    * **Hint:**  For this `.xml` format you should have a loop over the `phase` element.\n",
    "    * **Hint:** You can use the `find()` method to get the species array.\n",
    "\n",
    "2. Calculate and print out the Arrhenius reaction rate coefficients using $R = 8.314$ and $T = 1500$.\n",
    "\n",
    "    Some notes and hints:\n",
    "    * **Hint:**  For this `.xml` format you should have loops over the `reactionData` element, the `reaction` element, the `rateCoeff` element, and the `Arrhenius` element using the `findall()` method discussed in lecture.\n",
    "    * **Hint:** You can use the `find()` method to get the reaction rate coefficients.\n",
    "    * My solution is:\n",
    "    \n",
    "        `k for reaction01 =    6.8678391864294477e+05\n",
    "    k for reaction02 =    2.3105559199959813e+06`"
   ]
  },
  {
   "cell_type": "code",
   "execution_count": 1,
   "metadata": {},
   "outputs": [
    {
     "name": "stdout",
     "output_type": "stream",
     "text": [
      "['H', 'O', 'OH', 'H2', 'O2']\n"
     ]
    }
   ],
   "source": [
    "###############################################################################\n",
    "# Part 1\n",
    "###############################################################################\n",
    "\n",
    "import xml.etree.ElementTree as ET\n",
    "\n",
    "tree = ET.parse('rxns.xml')\n",
    "root = tree.getroot()\n",
    "species = []\n",
    "for species_element in root.find('phase'):\n",
    "    new_species = species_element.text.strip().split()\n",
    "    species.extend(new_species)\n",
    "    \n",
    "print(species)"
   ]
  },
  {
   "cell_type": "code",
   "execution_count": 2,
   "metadata": {},
   "outputs": [],
   "source": [
    "###############################################################################\n",
    "# Part 2\n",
    "# arrhenius functions copied over from prior HW.\n",
    "###############################################################################\n",
    "\n",
    "import math\n",
    "\n",
    "def arrhenius (A: float, E: float, T: float, R: float = 8.314) -> float:\n",
    "    \"\"\"\n",
    "    Args:\n",
    "        A: Pre-exponential (frequency) factor.\n",
    "            ValueError raised if not > 0.\n",
    "        E: Activation energy.\n",
    "        T: Temperature in Kelvins.\n",
    "            ValueError raised if not >= 0.\n",
    "        R: Universal gas constant.\n",
    "\n",
    "    Returns:\n",
    "        Arrhenius reaction rate coefficient.\n",
    "    \"\"\"\n",
    "    if A <= 0:\n",
    "        raise ValueError('A must be > 0.')\n",
    "    if T < 0:\n",
    "        raise ValueError('T must be >= 0.')\n",
    "\n",
    "    return A * math.exp(-E / (R * T))\n",
    "\n",
    "def modified_arrhenius (A: float, E: float, T: float, b: float, R: float = 8.314) -> float:\n",
    "    \"\"\"\n",
    "    Args:\n",
    "        A: Arrhenius prefactor (frequency factor).\n",
    "            ValueError raised if not > 0.\n",
    "        E: Activation energy.\n",
    "        T: Temperature in Kelvins.\n",
    "            ValueError raised if not >= 0.\n",
    "        b: Modified Arrhenius parameter.\n",
    "            Must be real number.\n",
    "        R: Universal gas constant.\n",
    "\n",
    "    Notes:\n",
    "        Calculation done by multiplying the result of a call to arrhenius() with the\n",
    "        modified Arrhenius parameter (T^b).\n",
    "\n",
    "    Returns:\n",
    "        Modified Arrhenius reaction rate coefficient.\n",
    "    \"\"\"\n",
    "    if isinstance(b, complex):\n",
    "        raise ValueError('b must be real number.')\n",
    "    prelim = arrhenius(A, E, T, R)\n",
    "    return prelim * (T**b)"
   ]
  },
  {
   "cell_type": "code",
   "execution_count": 3,
   "metadata": {},
   "outputs": [
    {
     "name": "stdout",
     "output_type": "stream",
     "text": [
      "k for reaction01 = 1.1983051695759727e+40\n",
      "k for reaction02 = 7.654506824737527e-05\n"
     ]
    }
   ],
   "source": [
    "T = 1500\n",
    "\n",
    "# Store Arrhenius coefficients in dict with key equal to id attribute in xml.\n",
    "results = {}\n",
    "\n",
    "for reaction in root.find('reactionData').findall('reaction'):\n",
    "    for rate_coeff in reaction.findall('rateCoeff'):\n",
    "        for i, arrhen in enumerate(rate_coeff.findall('Arrhenius')):\n",
    "            A = float(arrhen.find('A').text)\n",
    "            b = float(arrhen.find('b').text)\n",
    "            E = float(arrhen.find('E').text)\n",
    "            results[reaction.get('id')] = arrhenius(A, E, T, b)\n",
    "            \n",
    "for reaction_id, k in results.items():\n",
    "    print('k for {} = {}'.format(reaction_id, k))"
   ]
  },
  {
   "cell_type": "code",
   "execution_count": null,
   "metadata": {},
   "outputs": [],
   "source": []
  }
 ],
 "metadata": {
  "kernelspec": {
   "display_name": "Python 3",
   "language": "python",
   "name": "python3"
  },
  "language_info": {
   "codemirror_mode": {
    "name": "ipython",
    "version": 3
   },
   "file_extension": ".py",
   "mimetype": "text/x-python",
   "name": "python",
   "nbconvert_exporter": "python",
   "pygments_lexer": "ipython3",
   "version": "3.5.2"
  }
 },
 "nbformat": 4,
 "nbformat_minor": 2
}
